{
 "cells": [
  {
   "cell_type": "code",
   "execution_count": 24,
   "metadata": {},
   "outputs": [],
   "source": [
    "import pickle\n",
    "import pandas as pd\n",
    "#useless comment"
   ]
  },
  {
   "cell_type": "code",
   "execution_count": 25,
   "metadata": {},
   "outputs": [],
   "source": [
    "masterClientDictionary = {}\n",
    "masterAccountDictionary = {}\n",
    "masterFraudDictionary = {}"
   ]
  },
  {
   "cell_type": "code",
   "execution_count": 26,
   "metadata": {},
   "outputs": [],
   "source": [
    "class Account:\n",
    "    def __init__(self,id):\n",
    "        self.id = id\n",
    "        self.account_dim = [] # I think this data is account history\n",
    "        self.fraud_claim_cases = set() # set of associated claim id's\n",
    "        self.rams_batch_cur = []  #credit histories\n",
    "        self.statement_fact = []  #statement information\n",
    "        self.syf_id = [] #identifying account information\n",
    "        self.transaction_fact = [] #transactions\n",
    "        self.wrld_stor_tran_fact = [] # foreign transations I think"
   ]
  },
  {
   "cell_type": "code",
   "execution_count": 27,
   "metadata": {},
   "outputs": [],
   "source": [
    "class Client:\n",
    "    def __init__(self,id):\n",
    "        self.id = id\n",
    "        self.accounts = set() # set of associated account id's"
   ]
  },
  {
   "cell_type": "code",
   "execution_count": 28,
   "metadata": {},
   "outputs": [],
   "source": [
    "class FraudClaim:\n",
    "    def __init__(self,id):\n",
    "        self.id = id\n",
    "        self.claim_information = []\n",
    "        self.transaction_information = []\n"
   ]
  },
  {
   "cell_type": "code",
   "execution_count": 29,
   "metadata": {},
   "outputs": [],
   "source": [
    "### account_dim_20250325\n",
    "df = pd.read_csv('cleaned_data/cleaned_account_dim.csv')\n",
    "for index, row in df.iterrows():\n",
    "\n",
    "    if row['client_id'] not in masterClientDictionary: #adding account numbers to client objects\n",
    "        masterClientDictionary[row['client_id']] = Client(row['client_id'])\n",
    "    masterClientDictionary[row['client_id']].accounts.add(row['current_account_nbr'])\n",
    "\n",
    "    if row['current_account_nbr'] not in masterAccountDictionary: # adding account history information to account object\n",
    "        masterAccountDictionary[row['current_account_nbr']] = Account(row['current_account_nbr'])\n",
    "    masterAccountDictionary[row['current_account_nbr']].account_dim.append(row) \n"
   ]
  },
  {
   "cell_type": "code",
   "execution_count": 30,
   "metadata": {},
   "outputs": [],
   "source": [
    "### fraud_claim_case_20250325\n",
    "df = pd.read_csv('cleaned_data/cleaned_fraud_claim.csv')\n",
    "for index, row in df.iterrows():\n",
    "\n",
    "    if row['current_account_nbr'] not in masterAccountDictionary: # adds the case_id to list of fraud cases in account object\n",
    "        masterAccountDictionary[row['current_account_nbr']] = Client(row['current_account_nbr'])\n",
    "    masterAccountDictionary[row['current_account_nbr']].fraud_claim_cases.add(row['case_id'])\n",
    "\n",
    "    if row['case_id'] not in masterFraudDictionary: # adding claim information to fraud claim object\n",
    "        masterFraudDictionary[row['case_id']] = FraudClaim(row['case_id'])\n",
    "    masterFraudDictionary[row['case_id']].claim_information.append(row) "
   ]
  },
  {
   "cell_type": "code",
   "execution_count": 31,
   "metadata": {},
   "outputs": [],
   "source": [
    "### fraud_claim_tran_20250325\n",
    "df = pd.read_csv('cleaned_data/cleaned_fraud_tran.csv')\n",
    "for index, row in df.iterrows():\n",
    "\n",
    "    if row['current_account_nbr'] not in masterAccountDictionary: # adds the case_id to list of fraud cases in account object\n",
    "        masterAccountDictionary[row['current_account_nbr']] = Client(row['current_account_nbr'])\n",
    "    masterAccountDictionary[row['current_account_nbr']].fraud_claim_cases.add(row['case_id'])\n",
    "\n",
    "    if row['case_id'] not in masterFraudDictionary: # adding transaction information to fraud claim object\n",
    "        masterFraudDictionary[row['case_id']] = FraudClaim(row['case_id'])\n",
    "    masterFraudDictionary[row['case_id']].transaction_information.append(row) "
   ]
  },
  {
   "cell_type": "code",
   "execution_count": 32,
   "metadata": {},
   "outputs": [],
   "source": [
    "### rams_batch_cur_20250325\n",
    "df = pd.read_csv('cleaned_data/cleaned_rams_batch_cur.csv') \n",
    "for index, row in df.iterrows():\n",
    "    \n",
    "    if row['cu_account_nbr'] not in masterAccountDictionary: # adding credit information to account object\n",
    "        masterAccountDictionary[row['cu_account_nbr']] = Account(row['cu_account_nbr'])\n",
    "    masterAccountDictionary[row['cu_account_nbr']].rams_batch_cur.append(row) \n"
   ]
  },
  {
   "cell_type": "code",
   "execution_count": 33,
   "metadata": {},
   "outputs": [],
   "source": [
    "### statement_fact_20250325\n",
    "df = pd.read_csv('cleaned_data/cleaned_statement_fact_20250325.csv') \n",
    "for index, row in df.iterrows():\n",
    "    \n",
    "    if row['current_account_nbr'] not in masterAccountDictionary: \n",
    "        masterAccountDictionary[row['current_account_nbr']] = Account(row['current_account_nbr'])\n",
    "    masterAccountDictionary[row['current_account_nbr']].statement_fact.append(row) "
   ]
  },
  {
   "cell_type": "code",
   "execution_count": 34,
   "metadata": {},
   "outputs": [],
   "source": [
    "### syf_id_20250325\n",
    "df = pd.read_csv('cleaned_data/cleaned_syf_id_20250325.csv') \n",
    "for index, row in df.iterrows():\n",
    "    \n",
    "    if row['account_nbr_pty'] not in masterAccountDictionary: \n",
    "        masterAccountDictionary[row['account_nbr_pty']] = Account(row['account_nbr_pty'])\n",
    "    masterAccountDictionary[row['account_nbr_pty']].syf_id.append(row) "
   ]
  },
  {
   "cell_type": "code",
   "execution_count": 35,
   "metadata": {},
   "outputs": [],
   "source": [
    "### transaction_fact_20250325\n",
    "df = pd.read_csv('cleaned_data/cleaned_transaction_fact_20250325.csv')\n",
    "for index, row in df.iterrows():\n",
    "\n",
    "    if row['current_account_nbr'] not in masterAccountDictionary: # adding transactions to account object\n",
    "        masterAccountDictionary[row['current_account_nbr']] = Account(row['current_account_nbr'])\n",
    "    masterAccountDictionary[row['current_account_nbr']].transaction_fact.append(row) "
   ]
  },
  {
   "cell_type": "code",
   "execution_count": 36,
   "metadata": {},
   "outputs": [],
   "source": [
    "### wrld_stor_tran_fact_20250325\n",
    "df = pd.read_csv('cleaned_data/cleaned_wrld_stor_tran_fact_20250325.csv')\n",
    "for index, row in df.iterrows():\n",
    "\n",
    "    if row['current_account_nbr'] not in masterAccountDictionary: # adding foreign transactions to account object\n",
    "        masterAccountDictionary[row['current_account_nbr']] = Account(row['current_account_nbr'])\n",
    "    masterAccountDictionary[row['current_account_nbr']].wrld_stor_tran_fact.append(row) "
   ]
  },
  {
   "cell_type": "code",
   "execution_count": null,
   "metadata": {},
   "outputs": [],
   "source": []
  },
  {
   "cell_type": "code",
   "execution_count": 40,
   "metadata": {},
   "outputs": [],
   "source": [
    "\n",
    "with open(\"object_data/masterClientDictionary.pkl\", \"wb\") as file:\n",
    "       pickle.dump(masterClientDictionary, file)\n",
    "\n",
    "with open(\"object_data/masterAccountDictionary.pkl\", \"wb\") as file:\n",
    "       pickle.dump(masterAccountDictionary, file)\n",
    "\n",
    "with open(\"object_data/masterFraudDictionary.pkl\", \"wb\") as file:\n",
    "       pickle.dump(masterFraudDictionary, file)\n"
   ]
  },
  {
   "cell_type": "code",
   "execution_count": null,
   "metadata": {},
   "outputs": [],
   "source": []
  },
  {
   "cell_type": "code",
   "execution_count": 42,
   "metadata": {},
   "outputs": [
    {
     "data": {
      "text/plain": [
       "{'BG4qfLXo8chh5tIY',\n",
       " 'M0H8Nilr0TMbfsDA',\n",
       " 'U3quHmWEZPPFKyIY',\n",
       " 'apaOOlllTbXSAlVZ',\n",
       " 'nTgalbpd5Rsol7CA',\n",
       " 'pSsrDqdWzfcfycPY',\n",
       " 'riwJ5KwOUwSHdR58'}"
      ]
     },
     "execution_count": 42,
     "metadata": {},
     "output_type": "execute_result"
    }
   ],
   "source": [
    "masterClientDictionary['YCTHAA278DC'].accounts"
   ]
  },
  {
   "cell_type": "code",
   "execution_count": 43,
   "metadata": {},
   "outputs": [
    {
     "data": {
      "text/plain": [
       "[current_account_nbr       BG4qfLXo8chh5tIY\n",
       " transaction_type                   PAYMENT\n",
       " transaction_code                       271\n",
       " transaction_date                2025-01-09\n",
       " transaction_amt                      29.76\n",
       " payment_type                           0.0\n",
       " transaction_return_cnt                   0\n",
       " transaction_sale_cnt                     0\n",
       " product_amt                            0.0\n",
       " product_qty                            0.0\n",
       " invoice_nbr                            NaN\n",
       " first_purchase_ind                       N\n",
       " adj_orgn_tran_dt                       NaN\n",
       " curr_markup_fee                        0.0\n",
       " fcr_amount                             0.0\n",
       " fcr_flag                               0.0\n",
       " fcr_rate_of_exchange                   0.0\n",
       " frgn_curr_code                        \\\"\\\"\n",
       " frgn_tran_amt                          0.0\n",
       " us_equiv_amt                           0.0\n",
       " posting_date                    2025-01-09\n",
       " Name: 33802, dtype: object,\n",
       " current_account_nbr       BG4qfLXo8chh5tIY\n",
       " transaction_type                   PAYMENT\n",
       " transaction_code                       271\n",
       " transaction_date                2024-08-09\n",
       " transaction_amt                       70.0\n",
       " payment_type                           0.0\n",
       " transaction_return_cnt                   0\n",
       " transaction_sale_cnt                     0\n",
       " product_amt                            0.0\n",
       " product_qty                            0.0\n",
       " invoice_nbr                            NaN\n",
       " first_purchase_ind                       N\n",
       " adj_orgn_tran_dt                       NaN\n",
       " curr_markup_fee                        0.0\n",
       " fcr_amount                             0.0\n",
       " fcr_flag                               0.0\n",
       " fcr_rate_of_exchange                   0.0\n",
       " frgn_curr_code                        \\\"\\\"\n",
       " frgn_tran_amt                          0.0\n",
       " us_equiv_amt                           0.0\n",
       " posting_date                    2024-08-09\n",
       " Name: 75960, dtype: object,\n",
       " current_account_nbr       BG4qfLXo8chh5tIY\n",
       " transaction_type                   PAYMENT\n",
       " transaction_code                       271\n",
       " transaction_date                2024-11-08\n",
       " transaction_amt                      19.21\n",
       " payment_type                           0.0\n",
       " transaction_return_cnt                   0\n",
       " transaction_sale_cnt                     0\n",
       " product_amt                            0.0\n",
       " product_qty                            0.0\n",
       " invoice_nbr                            NaN\n",
       " first_purchase_ind                       N\n",
       " adj_orgn_tran_dt                       NaN\n",
       " curr_markup_fee                        0.0\n",
       " fcr_amount                             0.0\n",
       " fcr_flag                               0.0\n",
       " fcr_rate_of_exchange                   0.0\n",
       " frgn_curr_code                        \\\"\\\"\n",
       " frgn_tran_amt                          0.0\n",
       " us_equiv_amt                           0.0\n",
       " posting_date                    2024-11-08\n",
       " Name: 142524, dtype: object,\n",
       " current_account_nbr       BG4qfLXo8chh5tIY\n",
       " transaction_type                   PAYMENT\n",
       " transaction_code                       271\n",
       " transaction_date                2025-03-09\n",
       " transaction_amt                      20.58\n",
       " payment_type                           0.0\n",
       " transaction_return_cnt                   0\n",
       " transaction_sale_cnt                     0\n",
       " product_amt                            0.0\n",
       " product_qty                            0.0\n",
       " invoice_nbr                            NaN\n",
       " first_purchase_ind                       N\n",
       " adj_orgn_tran_dt                       NaN\n",
       " curr_markup_fee                        0.0\n",
       " fcr_amount                             0.0\n",
       " fcr_flag                               0.0\n",
       " fcr_rate_of_exchange                   0.0\n",
       " frgn_curr_code                        \\\"\\\"\n",
       " frgn_tran_amt                          0.0\n",
       " us_equiv_amt                           0.0\n",
       " posting_date                    2025-03-09\n",
       " Name: 153469, dtype: object,\n",
       " current_account_nbr       BG4qfLXo8chh5tIY\n",
       " transaction_type                   PAYMENT\n",
       " transaction_code                       271\n",
       " transaction_date                2025-02-09\n",
       " transaction_amt                      14.09\n",
       " payment_type                           0.0\n",
       " transaction_return_cnt                   0\n",
       " transaction_sale_cnt                     0\n",
       " product_amt                            0.0\n",
       " product_qty                            0.0\n",
       " invoice_nbr                            NaN\n",
       " first_purchase_ind                       N\n",
       " adj_orgn_tran_dt                       NaN\n",
       " curr_markup_fee                        0.0\n",
       " fcr_amount                             0.0\n",
       " fcr_flag                               0.0\n",
       " fcr_rate_of_exchange                   0.0\n",
       " frgn_curr_code                        \\\"\\\"\n",
       " frgn_tran_amt                          0.0\n",
       " us_equiv_amt                           0.0\n",
       " posting_date                    2025-02-09\n",
       " Name: 267291, dtype: object,\n",
       " current_account_nbr       BG4qfLXo8chh5tIY\n",
       " transaction_type                    RETURN\n",
       " transaction_code                       255\n",
       " transaction_date                2024-06-26\n",
       " transaction_amt                       25.0\n",
       " payment_type                           0.0\n",
       " transaction_return_cnt                   1\n",
       " transaction_sale_cnt                     0\n",
       " product_amt                            0.0\n",
       " product_qty                            0.0\n",
       " invoice_nbr                            NaN\n",
       " first_purchase_ind                       N\n",
       " adj_orgn_tran_dt                       NaN\n",
       " curr_markup_fee                        0.0\n",
       " fcr_amount                             0.0\n",
       " fcr_flag                               0.0\n",
       " fcr_rate_of_exchange                   0.0\n",
       " frgn_curr_code                         840\n",
       " frgn_tran_amt                          0.0\n",
       " us_equiv_amt                           0.0\n",
       " posting_date                    2024-06-26\n",
       " Name: 379072, dtype: object,\n",
       " current_account_nbr       BG4qfLXo8chh5tIY\n",
       " transaction_type                   PAYMENT\n",
       " transaction_code                       271\n",
       " transaction_date                2024-10-09\n",
       " transaction_amt                      505.0\n",
       " payment_type                           0.0\n",
       " transaction_return_cnt                   0\n",
       " transaction_sale_cnt                     0\n",
       " product_amt                            0.0\n",
       " product_qty                            0.0\n",
       " invoice_nbr                            NaN\n",
       " first_purchase_ind                       N\n",
       " adj_orgn_tran_dt                       NaN\n",
       " curr_markup_fee                        0.0\n",
       " fcr_amount                             0.0\n",
       " fcr_flag                               0.0\n",
       " fcr_rate_of_exchange                   0.0\n",
       " frgn_curr_code                        \\\"\\\"\n",
       " frgn_tran_amt                          0.0\n",
       " us_equiv_amt                           0.0\n",
       " posting_date                    2024-10-09\n",
       " Name: 406038, dtype: object,\n",
       " current_account_nbr       BG4qfLXo8chh5tIY\n",
       " transaction_type                      SALE\n",
       " transaction_code                       253\n",
       " transaction_date                2024-07-17\n",
       " transaction_amt                       95.0\n",
       " payment_type                           0.0\n",
       " transaction_return_cnt                   0\n",
       " transaction_sale_cnt                     1\n",
       " product_amt                            0.0\n",
       " product_qty                            0.0\n",
       " invoice_nbr                            NaN\n",
       " first_purchase_ind                       N\n",
       " adj_orgn_tran_dt                       NaN\n",
       " curr_markup_fee                        0.0\n",
       " fcr_amount                             0.0\n",
       " fcr_flag                               0.0\n",
       " fcr_rate_of_exchange                   0.0\n",
       " frgn_curr_code                        \\\"\\\"\n",
       " frgn_tran_amt                          0.0\n",
       " us_equiv_amt                           0.0\n",
       " posting_date                    2024-07-17\n",
       " Name: 463855, dtype: object]"
      ]
     },
     "execution_count": 43,
     "metadata": {},
     "output_type": "execute_result"
    }
   ],
   "source": [
    "masterAccountDictionary['BG4qfLXo8chh5tIY'].transaction_fact"
   ]
  },
  {
   "cell_type": "code",
   "execution_count": null,
   "metadata": {},
   "outputs": [],
   "source": []
  },
  {
   "cell_type": "code",
   "execution_count": null,
   "metadata": {},
   "outputs": [],
   "source": []
  },
  {
   "cell_type": "code",
   "execution_count": null,
   "metadata": {},
   "outputs": [],
   "source": []
  },
  {
   "cell_type": "code",
   "execution_count": null,
   "metadata": {},
   "outputs": [],
   "source": []
  },
  {
   "cell_type": "code",
   "execution_count": null,
   "metadata": {},
   "outputs": [],
   "source": []
  },
  {
   "cell_type": "code",
   "execution_count": null,
   "metadata": {},
   "outputs": [],
   "source": []
  },
  {
   "cell_type": "code",
   "execution_count": null,
   "metadata": {},
   "outputs": [],
   "source": []
  }
 ],
 "metadata": {
  "kernelspec": {
   "display_name": "general",
   "language": "python",
   "name": "python3"
  },
  "language_info": {
   "codemirror_mode": {
    "name": "ipython",
    "version": 3
   },
   "file_extension": ".py",
   "mimetype": "text/x-python",
   "name": "python",
   "nbconvert_exporter": "python",
   "pygments_lexer": "ipython3",
   "version": "3.12.1"
  }
 },
 "nbformat": 4,
 "nbformat_minor": 2
}
