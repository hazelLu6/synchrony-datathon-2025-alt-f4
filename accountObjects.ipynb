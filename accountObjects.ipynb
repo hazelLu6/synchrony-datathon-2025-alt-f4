{
 "cells": [
  {
   "cell_type": "code",
   "execution_count": null,
   "metadata": {},
   "outputs": [],
   "source": [
    "import pickle\n",
    "import pandas as pd\n",
    "#useless comment"
   ]
  },
  {
   "cell_type": "code",
   "execution_count": 1,
   "metadata": {},
   "outputs": [],
   "source": [
    "masterClientDictionary = {}\n",
    "masterAccountDictionary = {}\n",
    "masterFraudDictionary = {}\n",
    "masterUserDictionary = {}"
   ]
  },
  {
   "cell_type": "code",
   "execution_count": 2,
   "metadata": {},
   "outputs": [],
   "source": [
    "class Account:\n",
    "    def __init__(self,id):\n",
    "        self.id = id\n",
    "        self.account_dim = [] # I think this data is account history\n",
    "        self.fraud_claim_cases = set() # set of associated claim id's\n",
    "        self.rams_batch_cur = []  #credit histories\n",
    "        self.statement_fact = []  #statement information\n",
    "        self.syf_id = [] #identifying account information\n",
    "        self.transaction_fact = [] #transactions\n",
    "        self.wrld_stor_tran_fact = [] # foreign transations I think"
   ]
  },
  {
   "cell_type": "code",
   "execution_count": 3,
   "metadata": {},
   "outputs": [],
   "source": [
    "class Client:\n",
    "    def __init__(self,id):\n",
    "        self.id = id\n",
    "        self.accounts = set() # set of associated account id's"
   ]
  },
  {
   "cell_type": "code",
   "execution_count": null,
   "metadata": {},
   "outputs": [],
   "source": [
    "class FraudClaim:\n",
    "    def __init__(self,id):\n",
    "        self.id = id\n",
    "        self.claim_information = [] #general information about the claims\n",
    "        self.transaction_information = [] #information about related transactions to claims\n"
   ]
  },
  {
   "cell_type": "code",
   "execution_count": null,
   "metadata": {},
   "outputs": [],
   "source": [
    "class User:\n",
    "    def __init__(self,id):\n",
    "        self.id = id \n",
    "        self.accounts = set() #id's of all accounts related to this user"
   ]
  },
  {
   "cell_type": "code",
   "execution_count": 6,
   "metadata": {},
   "outputs": [
    {
     "ename": "NameError",
     "evalue": "name 'pd' is not defined",
     "output_type": "error",
     "traceback": [
      "\u001b[1;31m---------------------------------------------------------------------------\u001b[0m",
      "\u001b[1;31mNameError\u001b[0m                                 Traceback (most recent call last)",
      "Cell \u001b[1;32mIn[6], line 2\u001b[0m\n\u001b[0;32m      1\u001b[0m \u001b[38;5;66;03m### account_dim_20250325\u001b[39;00m\n\u001b[1;32m----> 2\u001b[0m df \u001b[38;5;241m=\u001b[39m \u001b[43mpd\u001b[49m\u001b[38;5;241m.\u001b[39mread_csv(\u001b[38;5;124m'\u001b[39m\u001b[38;5;124mcleaned_data/cleaned_account_dim.csv\u001b[39m\u001b[38;5;124m'\u001b[39m)\n\u001b[0;32m      3\u001b[0m \u001b[38;5;28;01mfor\u001b[39;00m index, row \u001b[38;5;129;01min\u001b[39;00m df\u001b[38;5;241m.\u001b[39miterrows():\n\u001b[0;32m      5\u001b[0m     \u001b[38;5;28;01mif\u001b[39;00m row[\u001b[38;5;124m'\u001b[39m\u001b[38;5;124mclient_id\u001b[39m\u001b[38;5;124m'\u001b[39m] \u001b[38;5;129;01mnot\u001b[39;00m \u001b[38;5;129;01min\u001b[39;00m masterClientDictionary: \u001b[38;5;66;03m#adding account numbers to client objects\u001b[39;00m\n",
      "\u001b[1;31mNameError\u001b[0m: name 'pd' is not defined"
     ]
    }
   ],
   "source": [
    "### account_dim_20250325\n",
    "df = pd.read_csv('cleaned_data/cleaned_account_dim.csv')\n",
    "for index, row in df.iterrows():\n",
    "\n",
    "    if row['client_id'] not in masterClientDictionary: #adding account numbers to client objects\n",
    "        masterClientDictionary[row['client_id']] = Client(row['client_id'])\n",
    "    masterClientDictionary[row['client_id']].accounts.add(row['current_account_nbr'])\n",
    "\n",
    "    if row['current_account_nbr'] not in masterAccountDictionary: # adding account history information to account object\n",
    "        masterAccountDictionary[row['current_account_nbr']] = Account(row['current_account_nbr'])\n",
    "    masterAccountDictionary[row['current_account_nbr']].account_dim.append(row) \n"
   ]
  },
  {
   "cell_type": "code",
   "execution_count": null,
   "metadata": {},
   "outputs": [],
   "source": [
    "### fraud_claim_case_20250325\n",
    "df = pd.read_csv('cleaned_data/cleaned_fraud_claim.csv')\n",
    "for index, row in df.iterrows():\n",
    "\n",
    "    if row['current_account_nbr'] not in masterAccountDictionary: # adds the case_id to list of fraud cases in account object\n",
    "        masterAccountDictionary[row['current_account_nbr']] = Client(row['current_account_nbr'])\n",
    "    masterAccountDictionary[row['current_account_nbr']].fraud_claim_cases.add(row['case_id'])\n",
    "\n",
    "    if row['case_id'] not in masterFraudDictionary: # adding claim information to fraud claim object\n",
    "        masterFraudDictionary[row['case_id']] = FraudClaim(row['case_id'])\n",
    "    masterFraudDictionary[row['case_id']].claim_information.append(row) "
   ]
  },
  {
   "cell_type": "code",
   "execution_count": null,
   "metadata": {},
   "outputs": [],
   "source": [
    "### fraud_claim_tran_20250325\n",
    "df = pd.read_csv('cleaned_data/cleaned_fraud_tran.csv')\n",
    "for index, row in df.iterrows():\n",
    "\n",
    "    if row['current_account_nbr'] not in masterAccountDictionary: # adds the case_id to list of fraud cases in account object\n",
    "        masterAccountDictionary[row['current_account_nbr']] = Client(row['current_account_nbr'])\n",
    "    masterAccountDictionary[row['current_account_nbr']].fraud_claim_cases.add(row['case_id'])\n",
    "\n",
    "    if row['case_id'] not in masterFraudDictionary: # adding transaction information to fraud claim object\n",
    "        masterFraudDictionary[row['case_id']] = FraudClaim(row['case_id'])\n",
    "    masterFraudDictionary[row['case_id']].transaction_information.append(row) "
   ]
  },
  {
   "cell_type": "code",
   "execution_count": null,
   "metadata": {},
   "outputs": [],
   "source": [
    "### rams_batch_cur_20250325\n",
    "df = pd.read_csv('cleaned_data/cleaned_rams_batch_cur.csv') \n",
    "for index, row in df.iterrows():\n",
    "    \n",
    "    if row['cu_account_nbr'] not in masterAccountDictionary: # adding credit information to account object\n",
    "        masterAccountDictionary[row['cu_account_nbr']] = Account(row['cu_account_nbr'])\n",
    "    masterAccountDictionary[row['cu_account_nbr']].rams_batch_cur.append(row) \n"
   ]
  },
  {
   "cell_type": "code",
   "execution_count": null,
   "metadata": {},
   "outputs": [],
   "source": [
    "### statement_fact_20250325\n",
    "df = pd.read_csv('cleaned_data/cleaned_statement_fact_20250325.csv') \n",
    "for index, row in df.iterrows():\n",
    "    \n",
    "    if row['current_account_nbr'] not in masterAccountDictionary: \n",
    "        masterAccountDictionary[row['current_account_nbr']] = Account(row['current_account_nbr'])\n",
    "    masterAccountDictionary[row['current_account_nbr']].statement_fact.append(row) "
   ]
  },
  {
   "cell_type": "code",
   "execution_count": null,
   "metadata": {},
   "outputs": [],
   "source": [
    "### syf_id_20250325\n",
    "df = pd.read_csv('cleaned_data/cleaned_syf_id.csv') \n",
    "for index, row in df.iterrows():\n",
    "    \n",
    "    if row['account_nbr_pty'] not in masterAccountDictionary: \n",
    "        masterAccountDictionary[row['account_nbr_pty']] = Account(row['account_nbr_pty'])\n",
    "    masterAccountDictionary[row['account_nbr_pty']].syf_id.append(row) \n",
    "\n",
    "    if row['ds_id'] not in masterUserDictionary:\n",
    "        masterUserDictionary[row['ds_id']] = User(row['ds_id'])\n",
    "    masterUserDictionary[row['ds_id']].accounts.add(row['account_nbr_pty'])"
   ]
  },
  {
   "cell_type": "code",
   "execution_count": null,
   "metadata": {},
   "outputs": [],
   "source": [
    "### transaction_fact_20250325\n",
    "df = pd.read_csv('cleaned_data/cleaned_transaction_fact_20250325.csv')\n",
    "for index, row in df.iterrows():\n",
    "\n",
    "    if row['current_account_nbr'] not in masterAccountDictionary: # adding transactions to account object\n",
    "        masterAccountDictionary[row['current_account_nbr']] = Account(row['current_account_nbr'])\n",
    "    masterAccountDictionary[row['current_account_nbr']].transaction_fact.append(row) "
   ]
  },
  {
   "cell_type": "code",
   "execution_count": null,
   "metadata": {},
   "outputs": [],
   "source": [
    "### wrld_stor_tran_fact_20250325\n",
    "df = pd.read_csv('cleaned_data/cleaned_wrld_stor_tran_fact_20250325.csv')\n",
    "for index, row in df.iterrows():\n",
    "\n",
    "    if row['current_account_nbr'] not in masterAccountDictionary: # adding foreign transactions to account object\n",
    "        masterAccountDictionary[row['current_account_nbr']] = Account(row['current_account_nbr'])\n",
    "    masterAccountDictionary[row['current_account_nbr']].wrld_stor_tran_fact.append(row) "
   ]
  },
  {
   "cell_type": "code",
   "execution_count": null,
   "metadata": {},
   "outputs": [],
   "source": [
    "\n",
    "with open(\"object_data/masterClientDictionary.pkl\", \"wb\") as file:\n",
    "       pickle.dump(masterClientDictionary, file)\n",
    "\n",
    "with open(\"object_data/masterAccountDictionary.pkl\", \"wb\") as file:\n",
    "       pickle.dump(masterAccountDictionary, file)\n",
    "\n",
    "with open(\"object_data/masterFraudDictionary.pkl\", \"wb\") as file:\n",
    "       pickle.dump(masterFraudDictionary, file)\n",
    "\n",
    "with open(\"object_data/masterUserDictionary.pkl\", \"wb\") as file:\n",
    "       pickle.dump(masterUserDictionary, file)\n"
   ]
  },
  {
   "cell_type": "code",
   "execution_count": null,
   "metadata": {},
   "outputs": [],
   "source": []
  },
  {
   "cell_type": "code",
   "execution_count": null,
   "metadata": {},
   "outputs": [],
   "source": []
  },
  {
   "cell_type": "code",
   "execution_count": null,
   "metadata": {},
   "outputs": [
    {
     "ename": "KeyError",
     "evalue": "'YCTHAA278DC'",
     "output_type": "error",
     "traceback": [
      "\u001b[1;31m---------------------------------------------------------------------------\u001b[0m",
      "\u001b[1;31mKeyError\u001b[0m                                  Traceback (most recent call last)",
      "Cell \u001b[1;32mIn[23], line 1\u001b[0m\n\u001b[1;32m----> 1\u001b[0m \u001b[43mmasterClientDictionary\u001b[49m\u001b[43m[\u001b[49m\u001b[38;5;124;43m'\u001b[39;49m\u001b[38;5;124;43mYCTHAA278DC\u001b[39;49m\u001b[38;5;124;43m'\u001b[39;49m\u001b[43m]\u001b[49m\u001b[38;5;241m.\u001b[39maccounts\n",
      "\u001b[1;31mKeyError\u001b[0m: 'YCTHAA278DC'"
     ]
    }
   ],
   "source": [
    "masterClientDictionary['YCTHAA278DC'].accounts"
   ]
  },
  {
   "cell_type": "code",
   "execution_count": null,
   "metadata": {},
   "outputs": [
    {
     "data": {
      "text/plain": [
       "[current_account_nbr       BG4qfLXo8chh5tIY\n",
       " transaction_type                   PAYMENT\n",
       " transaction_code                       271\n",
       " transaction_date                2025-01-09\n",
       " transaction_amt                      29.76\n",
       " payment_type                           0.0\n",
       " transaction_return_cnt                   0\n",
       " transaction_sale_cnt                     0\n",
       " product_amt                            0.0\n",
       " product_qty                            0.0\n",
       " invoice_nbr                            NaN\n",
       " first_purchase_ind                       N\n",
       " adj_orgn_tran_dt                       NaN\n",
       " curr_markup_fee                        0.0\n",
       " fcr_amount                             0.0\n",
       " fcr_flag                               0.0\n",
       " fcr_rate_of_exchange                   0.0\n",
       " frgn_curr_code                        \\\"\\\"\n",
       " frgn_tran_amt                          0.0\n",
       " us_equiv_amt                           0.0\n",
       " posting_date                    2025-01-09\n",
       " Name: 33802, dtype: object,\n",
       " current_account_nbr       BG4qfLXo8chh5tIY\n",
       " transaction_type                   PAYMENT\n",
       " transaction_code                       271\n",
       " transaction_date                2024-08-09\n",
       " transaction_amt                       70.0\n",
       " payment_type                           0.0\n",
       " transaction_return_cnt                   0\n",
       " transaction_sale_cnt                     0\n",
       " product_amt                            0.0\n",
       " product_qty                            0.0\n",
       " invoice_nbr                            NaN\n",
       " first_purchase_ind                       N\n",
       " adj_orgn_tran_dt                       NaN\n",
       " curr_markup_fee                        0.0\n",
       " fcr_amount                             0.0\n",
       " fcr_flag                               0.0\n",
       " fcr_rate_of_exchange                   0.0\n",
       " frgn_curr_code                        \\\"\\\"\n",
       " frgn_tran_amt                          0.0\n",
       " us_equiv_amt                           0.0\n",
       " posting_date                    2024-08-09\n",
       " Name: 75960, dtype: object,\n",
       " current_account_nbr       BG4qfLXo8chh5tIY\n",
       " transaction_type                   PAYMENT\n",
       " transaction_code                       271\n",
       " transaction_date                2024-11-08\n",
       " transaction_amt                      19.21\n",
       " payment_type                           0.0\n",
       " transaction_return_cnt                   0\n",
       " transaction_sale_cnt                     0\n",
       " product_amt                            0.0\n",
       " product_qty                            0.0\n",
       " invoice_nbr                            NaN\n",
       " first_purchase_ind                       N\n",
       " adj_orgn_tran_dt                       NaN\n",
       " curr_markup_fee                        0.0\n",
       " fcr_amount                             0.0\n",
       " fcr_flag                               0.0\n",
       " fcr_rate_of_exchange                   0.0\n",
       " frgn_curr_code                        \\\"\\\"\n",
       " frgn_tran_amt                          0.0\n",
       " us_equiv_amt                           0.0\n",
       " posting_date                    2024-11-08\n",
       " Name: 142524, dtype: object,\n",
       " current_account_nbr       BG4qfLXo8chh5tIY\n",
       " transaction_type                   PAYMENT\n",
       " transaction_code                       271\n",
       " transaction_date                2025-03-09\n",
       " transaction_amt                      20.58\n",
       " payment_type                           0.0\n",
       " transaction_return_cnt                   0\n",
       " transaction_sale_cnt                     0\n",
       " product_amt                            0.0\n",
       " product_qty                            0.0\n",
       " invoice_nbr                            NaN\n",
       " first_purchase_ind                       N\n",
       " adj_orgn_tran_dt                       NaN\n",
       " curr_markup_fee                        0.0\n",
       " fcr_amount                             0.0\n",
       " fcr_flag                               0.0\n",
       " fcr_rate_of_exchange                   0.0\n",
       " frgn_curr_code                        \\\"\\\"\n",
       " frgn_tran_amt                          0.0\n",
       " us_equiv_amt                           0.0\n",
       " posting_date                    2025-03-09\n",
       " Name: 153469, dtype: object,\n",
       " current_account_nbr       BG4qfLXo8chh5tIY\n",
       " transaction_type                   PAYMENT\n",
       " transaction_code                       271\n",
       " transaction_date                2025-02-09\n",
       " transaction_amt                      14.09\n",
       " payment_type                           0.0\n",
       " transaction_return_cnt                   0\n",
       " transaction_sale_cnt                     0\n",
       " product_amt                            0.0\n",
       " product_qty                            0.0\n",
       " invoice_nbr                            NaN\n",
       " first_purchase_ind                       N\n",
       " adj_orgn_tran_dt                       NaN\n",
       " curr_markup_fee                        0.0\n",
       " fcr_amount                             0.0\n",
       " fcr_flag                               0.0\n",
       " fcr_rate_of_exchange                   0.0\n",
       " frgn_curr_code                        \\\"\\\"\n",
       " frgn_tran_amt                          0.0\n",
       " us_equiv_amt                           0.0\n",
       " posting_date                    2025-02-09\n",
       " Name: 267291, dtype: object,\n",
       " current_account_nbr       BG4qfLXo8chh5tIY\n",
       " transaction_type                    RETURN\n",
       " transaction_code                       255\n",
       " transaction_date                2024-06-26\n",
       " transaction_amt                       25.0\n",
       " payment_type                           0.0\n",
       " transaction_return_cnt                   1\n",
       " transaction_sale_cnt                     0\n",
       " product_amt                            0.0\n",
       " product_qty                            0.0\n",
       " invoice_nbr                            NaN\n",
       " first_purchase_ind                       N\n",
       " adj_orgn_tran_dt                       NaN\n",
       " curr_markup_fee                        0.0\n",
       " fcr_amount                             0.0\n",
       " fcr_flag                               0.0\n",
       " fcr_rate_of_exchange                   0.0\n",
       " frgn_curr_code                         840\n",
       " frgn_tran_amt                          0.0\n",
       " us_equiv_amt                           0.0\n",
       " posting_date                    2024-06-26\n",
       " Name: 379072, dtype: object,\n",
       " current_account_nbr       BG4qfLXo8chh5tIY\n",
       " transaction_type                   PAYMENT\n",
       " transaction_code                       271\n",
       " transaction_date                2024-10-09\n",
       " transaction_amt                      505.0\n",
       " payment_type                           0.0\n",
       " transaction_return_cnt                   0\n",
       " transaction_sale_cnt                     0\n",
       " product_amt                            0.0\n",
       " product_qty                            0.0\n",
       " invoice_nbr                            NaN\n",
       " first_purchase_ind                       N\n",
       " adj_orgn_tran_dt                       NaN\n",
       " curr_markup_fee                        0.0\n",
       " fcr_amount                             0.0\n",
       " fcr_flag                               0.0\n",
       " fcr_rate_of_exchange                   0.0\n",
       " frgn_curr_code                        \\\"\\\"\n",
       " frgn_tran_amt                          0.0\n",
       " us_equiv_amt                           0.0\n",
       " posting_date                    2024-10-09\n",
       " Name: 406038, dtype: object,\n",
       " current_account_nbr       BG4qfLXo8chh5tIY\n",
       " transaction_type                      SALE\n",
       " transaction_code                       253\n",
       " transaction_date                2024-07-17\n",
       " transaction_amt                       95.0\n",
       " payment_type                           0.0\n",
       " transaction_return_cnt                   0\n",
       " transaction_sale_cnt                     1\n",
       " product_amt                            0.0\n",
       " product_qty                            0.0\n",
       " invoice_nbr                            NaN\n",
       " first_purchase_ind                       N\n",
       " adj_orgn_tran_dt                       NaN\n",
       " curr_markup_fee                        0.0\n",
       " fcr_amount                             0.0\n",
       " fcr_flag                               0.0\n",
       " fcr_rate_of_exchange                   0.0\n",
       " frgn_curr_code                        \\\"\\\"\n",
       " frgn_tran_amt                          0.0\n",
       " us_equiv_amt                           0.0\n",
       " posting_date                    2024-07-17\n",
       " Name: 463855, dtype: object]"
      ]
     },
     "execution_count": 43,
     "metadata": {},
     "output_type": "execute_result"
    }
   ],
   "source": [
    "masterAccountDictionary['BG4qfLXo8chh5tIY'].transaction_fact"
   ]
  },
  {
   "cell_type": "code",
   "execution_count": null,
   "metadata": {},
   "outputs": [],
   "source": []
  },
  {
   "cell_type": "code",
   "execution_count": null,
   "metadata": {},
   "outputs": [],
   "source": []
  },
  {
   "cell_type": "code",
   "execution_count": null,
   "metadata": {},
   "outputs": [],
   "source": []
  },
  {
   "cell_type": "code",
   "execution_count": null,
   "metadata": {},
   "outputs": [],
   "source": []
  },
  {
   "cell_type": "code",
   "execution_count": null,
   "metadata": {},
   "outputs": [],
   "source": []
  },
  {
   "cell_type": "code",
   "execution_count": null,
   "metadata": {},
   "outputs": [],
   "source": []
  },
  {
   "cell_type": "code",
   "execution_count": null,
   "metadata": {},
   "outputs": [],
   "source": []
  }
 ],
 "metadata": {
  "kernelspec": {
   "display_name": "general",
   "language": "python",
   "name": "python3"
  },
  "language_info": {
   "codemirror_mode": {
    "name": "ipython",
    "version": 3
   },
   "file_extension": ".py",
   "mimetype": "text/x-python",
   "name": "python",
   "nbconvert_exporter": "python",
   "pygments_lexer": "ipython3",
   "version": "3.12.1"
  }
 },
 "nbformat": 4,
 "nbformat_minor": 2
}
