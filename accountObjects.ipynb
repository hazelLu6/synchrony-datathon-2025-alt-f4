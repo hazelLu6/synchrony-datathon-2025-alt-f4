{
 "cells": [
  {
   "cell_type": "code",
   "execution_count": 161,
   "metadata": {},
   "outputs": [],
   "source": [
    "import pickle\n",
    "import pandas as pd"
   ]
  },
  {
   "cell_type": "code",
   "execution_count": 162,
   "metadata": {},
   "outputs": [],
   "source": [
    "masterClientDictionary = {}\n",
    "masterAccountDictionary = {}\n",
    "masterFraudDictionary = {}"
   ]
  },
  {
   "cell_type": "code",
   "execution_count": 163,
   "metadata": {},
   "outputs": [],
   "source": [
    "class Account:\n",
    "    def __init__(self,id):\n",
    "        self.id = id\n",
    "        self.account_dim = [] # I think this data is account history\n",
    "        self.fraud_claim_cases = set() # set of associated claim id's\n",
    "        self.rams_batch_cur = []  #credit histories\n",
    "        self.statement_fact = []  #statement information\n",
    "        self.syf_id = [] #identifying account information\n",
    "        self.transaction_fact = [] #transactions\n",
    "        self.wrld_stor_tran_fact = [] # foreign transations I think"
   ]
  },
  {
   "cell_type": "code",
   "execution_count": 164,
   "metadata": {},
   "outputs": [],
   "source": [
    "class Client:\n",
    "    def __init__(self,id):\n",
    "        self.id = id\n",
    "        self.accounts = set() # set of associated account id's"
   ]
  },
  {
   "cell_type": "code",
   "execution_count": 165,
   "metadata": {},
   "outputs": [],
   "source": [
    "class FraudClaim:\n",
    "    def __init__(self,id):\n",
    "        self.id = id\n",
    "        self.claim_information = []\n",
    "        self.transaction_information = []\n"
   ]
  },
  {
   "cell_type": "code",
   "execution_count": 127,
   "metadata": {},
   "outputs": [],
   "source": [
    "### account_dim_20250325\n",
    "df = pd.read_csv('data/account_dim_20250325.csv')\n",
    "for index, row in df.iterrows():\n",
    "\n",
    "    if row['client_id'] not in masterClientDictionary: #adding account numbers to client objects\n",
    "        masterClientDictionary[row['client_id']] = Client(row['client_id'])\n",
    "    masterClientDictionary[row['client_id']].accounts.add(row['current_account_nbr'])\n",
    "\n",
    "    if row['current_account_nbr'] not in masterAccountDictionary: # adding account history information to account object\n",
    "        masterAccountDictionary[row['current_account_nbr']] = Account(row['current_account_nbr'])\n",
    "    masterAccountDictionary[row['current_account_nbr']].account_dim.append(row) \n"
   ]
  },
  {
   "cell_type": "code",
   "execution_count": 128,
   "metadata": {},
   "outputs": [],
   "source": [
    "### fraud_claim_case_20250325\n",
    "df = pd.read_csv('data/fraud_claim_case_20250325.csv')\n",
    "for index, row in df.iterrows():\n",
    "\n",
    "    if row['current_account_nbr'] not in masterAccountDictionary: # adds the case_id to list of fraud cases in account object\n",
    "        masterAccountDictionary[row['current_account_nbr']] = Client(row['current_account_nbr'])\n",
    "    masterAccountDictionary[row['current_account_nbr']].fraud_claim_cases.add(row['case_id'])\n",
    "\n",
    "    if row['case_id'] not in masterFraudDictionary: # adding claim information to fraud claim object\n",
    "        masterFraudDictionary[row['case_id']] = FraudClaim(row['case_id'])\n",
    "    masterFraudDictionary[row['case_id']].claim_information.append(row) "
   ]
  },
  {
   "cell_type": "code",
   "execution_count": null,
   "metadata": {},
   "outputs": [],
   "source": [
    "### fraud_claim_tran_20250325\n",
    "df = pd.read_csv('data/fraud_claim_tran_20250325.csv')\n",
    "for index, row in df.iterrows():\n",
    "\n",
    "    if row['current_account_nbr'] not in masterAccountDictionary: # adds the case_id to list of fraud cases in account object\n",
    "        masterAccountDictionary[row['current_account_nbr']] = Client(row['current_account_nbr'])\n",
    "    masterAccountDictionary[row['current_account_nbr']].fraud_claim_cases.add(row['case_id'])\n",
    "\n",
    "    if row['case_id'] not in masterFraudDictionary: # adding transaction information to fraud claim object\n",
    "        masterFraudDictionary[row['case_id']] = FraudClaim(row['case_id'])\n",
    "    masterFraudDictionary[row['case_id']].transaction_information.append(row) "
   ]
  },
  {
   "cell_type": "code",
   "execution_count": 138,
   "metadata": {},
   "outputs": [],
   "source": [
    "### rams_batch_cur_20250325\n",
    "df = pd.read_csv('data/rams_batch_cur_20250325.csv') \n",
    "for index, row in df.iterrows():\n",
    "    \n",
    "    if row['cu_account_nbr'] not in masterAccountDictionary: # adding credit information to account object\n",
    "        masterAccountDictionary[row['cu_account_nbr']] = Account(row['cu_account_nbr'])\n",
    "    masterAccountDictionary[row['cu_account_nbr']].rams_batch_cur.append(row) \n"
   ]
  },
  {
   "cell_type": "code",
   "execution_count": null,
   "metadata": {},
   "outputs": [],
   "source": [
    "### statement_fact_20250325\n",
    "df = pd.read_csv('data/statement_fact_20250325.csv') \n",
    "for index, row in df.iterrows():\n",
    "    \n",
    "    if row['current_account_nbr'] not in masterAccountDictionary: \n",
    "        masterAccountDictionary[row['current_account_nbr']] = Account(row['current_account_nbr'])\n",
    "    masterAccountDictionary[row['current_account_nbr']].statement_fact.append(row) "
   ]
  },
  {
   "cell_type": "code",
   "execution_count": 158,
   "metadata": {},
   "outputs": [],
   "source": [
    "### syf_id_20250325\n",
    "df = pd.read_csv('data/syf_id_20250325.csv') \n",
    "for index, row in df.iterrows():\n",
    "    \n",
    "    if row['account_nbr_pty'] not in masterAccountDictionary: \n",
    "        masterAccountDictionary[row['account_nbr_pty']] = Account(row['account_nbr_pty'])\n",
    "    masterAccountDictionary[row['account_nbr_pty']].syf_id.append(row) "
   ]
  },
  {
   "cell_type": "code",
   "execution_count": 166,
   "metadata": {},
   "outputs": [],
   "source": [
    "### transaction_fact_20250325\n",
    "df = pd.read_csv('data/transaction_fact_20250325.csv')\n",
    "for index, row in df.iterrows():\n",
    "\n",
    "    if row['current_account_nbr'] not in masterAccountDictionary: # adding transactions to account object\n",
    "        masterAccountDictionary[row['current_account_nbr']] = Account(row['current_account_nbr'])\n",
    "    masterAccountDictionary[row['current_account_nbr']].transaction_fact.append(row) "
   ]
  },
  {
   "cell_type": "code",
   "execution_count": null,
   "metadata": {},
   "outputs": [],
   "source": [
    "### wrld_stor_tran_fact_20250325\n",
    "df = pd.read_csv('data/wrld_stor_tran_fact_20250325.csv')\n",
    "for index, row in df.iterrows():\n",
    "\n",
    "    if row['current_account_nbr'] not in masterAccountDictionary: # adding foreign transactions to account object\n",
    "        masterAccountDictionary[row['current_account_nbr']] = Account(row['current_account_nbr'])\n",
    "    masterAccountDictionary[row['current_account_nbr']].wrld_stor_tran_fact.append(row) "
   ]
  },
  {
   "cell_type": "code",
   "execution_count": null,
   "metadata": {},
   "outputs": [],
   "source": []
  },
  {
   "cell_type": "code",
   "execution_count": null,
   "metadata": {},
   "outputs": [],
   "source": [
    "with open(\"masterClientDictionary.pkl\", \"wb\") as file:\n",
    "       pickle.dump(masterClientDictionary, file)\n",
    "\n",
    "with open(\"masterAccountDictionary.pkl\", \"wb\") as file:\n",
    "       pickle.dump(masterAccountDictionary, file)\n",
    "\n",
    "with open(\"masterFraudDictionary.pkl\", \"wb\") as file:\n",
    "       pickle.dump(masterFraudDictionary, file)\n"
   ]
  },
  {
   "cell_type": "code",
   "execution_count": null,
   "metadata": {},
   "outputs": [],
   "source": []
  },
  {
   "cell_type": "code",
   "execution_count": null,
   "metadata": {},
   "outputs": [],
   "source": []
  },
  {
   "cell_type": "code",
   "execution_count": null,
   "metadata": {},
   "outputs": [],
   "source": []
  },
  {
   "cell_type": "code",
   "execution_count": null,
   "metadata": {},
   "outputs": [],
   "source": []
  },
  {
   "cell_type": "code",
   "execution_count": null,
   "metadata": {},
   "outputs": [],
   "source": []
  },
  {
   "cell_type": "code",
   "execution_count": null,
   "metadata": {},
   "outputs": [],
   "source": []
  },
  {
   "cell_type": "code",
   "execution_count": null,
   "metadata": {},
   "outputs": [],
   "source": []
  },
  {
   "cell_type": "code",
   "execution_count": null,
   "metadata": {},
   "outputs": [],
   "source": []
  },
  {
   "cell_type": "code",
   "execution_count": null,
   "metadata": {},
   "outputs": [],
   "source": []
  },
  {
   "cell_type": "code",
   "execution_count": null,
   "metadata": {},
   "outputs": [],
   "source": []
  }
 ],
 "metadata": {
  "kernelspec": {
   "display_name": "general",
   "language": "python",
   "name": "python3"
  },
  "language_info": {
   "codemirror_mode": {
    "name": "ipython",
    "version": 3
   },
   "file_extension": ".py",
   "mimetype": "text/x-python",
   "name": "python",
   "nbconvert_exporter": "python",
   "pygments_lexer": "ipython3",
   "version": "3.12.1"
  }
 },
 "nbformat": 4,
 "nbformat_minor": 2
}
