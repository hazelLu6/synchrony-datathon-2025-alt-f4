{
 "cells": [
  {
   "cell_type": "code",
   "execution_count": 58,
   "metadata": {},
   "outputs": [],
   "source": [
    "import pickle\n",
    "import pandas as pd"
   ]
  },
  {
   "cell_type": "code",
   "execution_count": 59,
   "metadata": {},
   "outputs": [],
   "source": [
    "masterClientDictionary = {}\n",
    "masterAccountDictionary = {}"
   ]
  },
  {
   "cell_type": "code",
   "execution_count": null,
   "metadata": {},
   "outputs": [],
   "source": [
    "class Account:\n",
    "    def __init__(self,id):\n",
    "        self.id = id\n",
    "        self.account_dim = [] ### I think this data is account history\n",
    "\n",
    "    "
   ]
  },
  {
   "cell_type": "code",
   "execution_count": null,
   "metadata": {},
   "outputs": [],
   "source": [
    "class Client:\n",
    "    def __init__(self,id):\n",
    "        self.id = id\n",
    "        self.accounts = set() # set of associated account id's\n"
   ]
  },
  {
   "cell_type": "code",
   "execution_count": null,
   "metadata": {},
   "outputs": [],
   "source": [
    "### account_dim_20250325 data \n",
    "df = pd.read_csv('data/account_dim_20250325.csv')\n",
    "for index, row in df.iterrows():\n",
    "\n",
    "    if row['client_id'] not in masterClientDictionary: #adding account numbers to client objects\n",
    "        masterClientDictionary[row['client_id']] = Client(row['client_id'])\n",
    "    masterClientDictionary[row['client_id']].accounts.add(row['current_account_nbr'])\n",
    "\n",
    "    if row['current_account_nbr'] not in masterAccountDictionary: # adding account history information to account object\n",
    "        masterAccountDictionary[row['current_account_nbr']] = Account(row['current_account_nbr'])\n",
    "    masterAccountDictionary[row['current_account_nbr']].account_dim.append(row) \n"
   ]
  },
  {
   "cell_type": "code",
   "execution_count": null,
   "metadata": {},
   "outputs": [],
   "source": [
    "### data/fraud_claim_case_20250325\n",
    "df = pd.read_csv('fraud_claim_case_20250325.csv')\n",
    "for index, row in df.iterrows():\n",
    "\n",
    "    if row['current_account_nbr'] not in masterAccountDictionary: # adding account history information to account object\n",
    "        masterAccountDictionary[row['current_account_nbr']] = Account(row['current_account_nbr'])\n",
    "    masterAccountDictionary[row['current_account_nbr']].account_dim.append(row) "
   ]
  },
  {
   "cell_type": "code",
   "execution_count": 65,
   "metadata": {},
   "outputs": [
    {
     "name": "stdout",
     "output_type": "stream",
     "text": [
      "[current_account_nbr                         nTgalbpd5Rsol7CA\n",
      "client_id                                        YCTHAA278DC\n",
      "open_date                      2020-07-17T00:00:00.000-04:00\n",
      "card_activation_date                                     NaN\n",
      "card_activation_flag                                       8\n",
      "ebill_ind                                                  E\n",
      "date_in_collection                                       NaN\n",
      "overlimit_type_flag                                        0\n",
      "payment_hist_1_12_mths                          ZZZZZZIAZZZZ\n",
      "payment_hist_13_24_mths                         ZZZZIIIQIIII\n",
      "employee_code                                            NaN\n",
      "external_status_reason_code                                0\n",
      "special_finance_charge_ind                               NaN\n",
      "pscc_ind                                                   0\n",
      "ext_status_reason_cd_desc                                NaN\n",
      "account_card_type                                  DUAL CARD\n",
      "Name: 0, dtype: object]\n"
     ]
    }
   ],
   "source": [
    "print(masterAccountDictionary['nTgalbpd5Rsol7CA'].account_dim)"
   ]
  },
  {
   "cell_type": "code",
   "execution_count": null,
   "metadata": {},
   "outputs": [],
   "source": []
  },
  {
   "cell_type": "code",
   "execution_count": null,
   "metadata": {},
   "outputs": [],
   "source": []
  },
  {
   "cell_type": "code",
   "execution_count": null,
   "metadata": {},
   "outputs": [],
   "source": []
  },
  {
   "cell_type": "code",
   "execution_count": null,
   "metadata": {},
   "outputs": [],
   "source": []
  },
  {
   "cell_type": "code",
   "execution_count": null,
   "metadata": {},
   "outputs": [],
   "source": []
  },
  {
   "cell_type": "code",
   "execution_count": null,
   "metadata": {},
   "outputs": [],
   "source": []
  },
  {
   "cell_type": "code",
   "execution_count": null,
   "metadata": {},
   "outputs": [
    {
     "name": "stdout",
     "output_type": "stream",
     "text": [
      "current_account_nbr                         nTgalbpd5Rsol7CA\n",
      "client_id                                        YCTHAA278DC\n",
      "open_date                      2020-07-17T00:00:00.000-04:00\n",
      "card_activation_date                                     NaN\n",
      "card_activation_flag                                       8\n",
      "ebill_ind                                                  E\n",
      "date_in_collection                                       NaN\n",
      "overlimit_type_flag                                        0\n",
      "payment_hist_1_12_mths                          ZZZZZZIAZZZZ\n",
      "payment_hist_13_24_mths                         ZZZZIIIQIIII\n",
      "employee_code                                            NaN\n",
      "external_status_reason_code                                0\n",
      "special_finance_charge_ind                               NaN\n",
      "pscc_ind                                                   0\n",
      "ext_status_reason_cd_desc                                NaN\n",
      "account_card_type                                  DUAL CARD\n",
      "Name: 0, dtype: object\n"
     ]
    }
   ],
   "source": [
    "import pandas as pd\n",
    "\n",
    "df = pd.read_csv('data/account_dim_20250325.csv')\n",
    "\n",
    "print(df.iloc[0])"
   ]
  },
  {
   "cell_type": "code",
   "execution_count": null,
   "metadata": {},
   "outputs": [
    {
     "name": "stdout",
     "output_type": "stream",
     "text": [
      "{'U3quHmWEZPPFKyIY', 'nTgalbpd5Rsol7CA', 'riwJ5KwOUwSHdR58', 'apaOOlllTbXSAlVZ', 'M0H8Nilr0TMbfsDA', 'pSsrDqdWzfcfycPY', 'BG4qfLXo8chh5tIY'}\n"
     ]
    }
   ],
   "source": [
    "print(masterClientDictionary['YCTHAA278DC'].accounts)"
   ]
  },
  {
   "cell_type": "code",
   "execution_count": null,
   "metadata": {},
   "outputs": [],
   "source": []
  },
  {
   "cell_type": "code",
   "execution_count": null,
   "metadata": {},
   "outputs": [],
   "source": []
  }
 ],
 "metadata": {
  "kernelspec": {
   "display_name": "general",
   "language": "python",
   "name": "python3"
  },
  "language_info": {
   "codemirror_mode": {
    "name": "ipython",
    "version": 3
   },
   "file_extension": ".py",
   "mimetype": "text/x-python",
   "name": "python",
   "nbconvert_exporter": "python",
   "pygments_lexer": "ipython3",
   "version": "3.12.1"
  }
 },
 "nbformat": 4,
 "nbformat_minor": 2
}
