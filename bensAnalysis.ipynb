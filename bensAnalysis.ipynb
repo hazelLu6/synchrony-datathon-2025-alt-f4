{
 "cells": [
  {
   "cell_type": "code",
   "execution_count": 5,
   "metadata": {},
   "outputs": [],
   "source": [
    "import pickle"
   ]
  },
  {
   "cell_type": "code",
   "execution_count": null,
   "metadata": {},
   "outputs": [],
   "source": [
    "class Account:\n",
    "    def __init__(self,id):\n",
    "        self.id = id\n",
    "        self.account_dim = [] # I think this data is account history\n",
    "        self.fraud_claim_cases = set() # set of associated claim id's\n",
    "        self.rams_batch_cur = []  #credit histories updated daily\n",
    "        self.statement_fact = []  #statement information\n",
    "        self.syf_id = [] #identifying account information\n",
    "        self.transaction_fact = [] #transactions\n",
    "        self.wrld_stor_tran_fact = [] # foreign transations I think"
   ]
  },
  {
   "cell_type": "code",
   "execution_count": 8,
   "metadata": {},
   "outputs": [],
   "source": [
    "class Client:\n",
    "    def __init__(self,id):\n",
    "        self.id = id\n",
    "        self.accounts = set() # set of associated account id's"
   ]
  },
  {
   "cell_type": "code",
   "execution_count": 9,
   "metadata": {},
   "outputs": [],
   "source": [
    "class FraudClaim:\n",
    "    def __init__(self,id):\n",
    "        self.id = id\n",
    "        self.claim_information = []\n",
    "        self.transaction_information = []\n"
   ]
  },
  {
   "cell_type": "code",
   "execution_count": 10,
   "metadata": {},
   "outputs": [],
   "source": [
    "with open(\"object_data/masterClientDictionary.pkl\", \"rb\") as file:\n",
    "       masterClientDictionary = pickle.load(file)\n",
    "\n",
    "with open(\"object_data/masterAccountDictionary.pkl\", \"rb\") as file:\n",
    "       masterAccountDictionary = pickle.load(file)\n",
    "\n",
    "with open(\"object_data/masterFraudDictionary.pkl\", \"rb\") as file:\n",
    "       masterFraudDictionary = pickle.load(file)\n"
   ]
  },
  {
   "cell_type": "code",
   "execution_count": null,
   "metadata": {},
   "outputs": [],
   "source": []
  },
  {
   "cell_type": "code",
   "execution_count": null,
   "metadata": {},
   "outputs": [],
   "source": []
  },
  {
   "cell_type": "code",
   "execution_count": null,
   "metadata": {},
   "outputs": [],
   "source": [
    "x_data = []\n",
    "y_data = []"
   ]
  },
  {
   "cell_type": "code",
   "execution_count": null,
   "metadata": {},
   "outputs": [
    {
     "name": "stdout",
     "output_type": "stream",
     "text": [
      "YCTHAA278DC\n",
      "CCSP489PLCC\n",
      "HGBHARRFT984\n",
      "OSELW263\n",
      "ONEMV447COB\n",
      "ARPPYALC768\n",
      "JTX290DC\n",
      "AOHTME710DC\n",
      "LKEB314DC\n",
      "RTDECCI129DC\n",
      "LDJAUCP673\n",
      "HNS962\n",
      "CDVFQR626\n",
      "YAUAPPLLDA934\n",
      "SVRDCMSNAS887\n",
      "GOEOLG279\n",
      "DGS176DC\n",
      "OCAOAZNMN549\n",
      "PJNOCC254\n",
      "TJX513PLCC\n",
      "LYNSFBP425\n",
      "ZIONVRE794\n",
      "CMSSSNAO606\n",
      "BKLE911\n",
      "ERWCJ164DC\n",
      "LMEAAEG694DC\n",
      "RGALNW318DC\n",
      "YEBA047COB\n",
      "SEMEFLILLT443DC\n",
      "DGS619PLCC\n",
      "EORHVCN154DC\n",
      "ATBCLRAR077\n",
      "RAEGLEMAEI254\n",
      "BLARARTC432DC\n",
      "WLCRPEJ828\n",
      "GRLNAW782PLCC\n",
      "RTU038DC\n",
      "WSLEO947DC\n",
      "DUEAABLY384\n",
      "LPPAAY817\n",
      "NCHSBPO661\n",
      "NSH241DC\n",
      "TEHAMO130\n",
      "RNEDGIIVR336\n"
     ]
    }
   ],
   "source": [
    "for accountID in masterAccountDictionary:\n",
    "    accountObject = masterAccountDictionary[accountID]\n",
    "    y_data = 0\n",
    "    for fraudID in accountObject.fraud_claim_cases:\n",
    "        y_data += masterFraudDictionary.claim_information['net_fraud_amt']\n",
    "    \n",
    "    x_data_point = []\n",
    "\n",
    "\n"
   ]
  },
  {
   "cell_type": "code",
   "execution_count": 32,
   "metadata": {},
   "outputs": [
    {
     "data": {
      "text/plain": [
       "<__main__.Client at 0x1e8968ce240>"
      ]
     },
     "execution_count": 32,
     "metadata": {},
     "output_type": "execute_result"
    }
   ],
   "source": [
    "masterClientDictionary['YCTHAA278DC']"
   ]
  },
  {
   "cell_type": "code",
   "execution_count": 31,
   "metadata": {},
   "outputs": [
    {
     "data": {
      "text/plain": [
       "{'YCTHAA278DC': <__main__.Client at 0x1e8968ce240>,\n",
       " 'CCSP489PLCC': <__main__.Client at 0x1e8968c7bf0>,\n",
       " 'HGBHARRFT984': <__main__.Client at 0x1e8968c4260>,\n",
       " 'OSELW263': <__main__.Client at 0x1e8968c4f50>,\n",
       " 'ONEMV447COB': <__main__.Client at 0x1e8968c6150>,\n",
       " 'ARPPYALC768': <__main__.Client at 0x1e8968c4fb0>,\n",
       " 'JTX290DC': <__main__.Client at 0x1e8968cd880>,\n",
       " 'AOHTME710DC': <__main__.Client at 0x1e8968ce690>,\n",
       " 'LKEB314DC': <__main__.Client at 0x1e8968c4bf0>,\n",
       " 'RTDECCI129DC': <__main__.Client at 0x1e8968c6960>,\n",
       " 'LDJAUCP673': <__main__.Client at 0x1e8968c4110>,\n",
       " 'HNS962': <__main__.Client at 0x1e8968c5730>,\n",
       " 'CDVFQR626': <__main__.Client at 0x1e8968c6720>,\n",
       " 'YAUAPPLLDA934': <__main__.Client at 0x1e8968c4f20>,\n",
       " 'SVRDCMSNAS887': <__main__.Client at 0x1e8968c6b70>,\n",
       " 'GOEOLG279': <__main__.Client at 0x1e8968c5ac0>,\n",
       " 'DGS176DC': <__main__.Client at 0x1e8968c60c0>,\n",
       " 'OCAOAZNMN549': <__main__.Client at 0x1e8968c58b0>,\n",
       " 'PJNOCC254': <__main__.Client at 0x1e8968c7950>,\n",
       " 'TJX513PLCC': <__main__.Client at 0x1e8968c50a0>,\n",
       " 'LYNSFBP425': <__main__.Client at 0x1e8968c5c40>,\n",
       " 'ZIONVRE794': <__main__.Client at 0x1e8968c44a0>,\n",
       " 'CMSSSNAO606': <__main__.Client at 0x1e8968c49b0>,\n",
       " 'BKLE911': <__main__.Client at 0x1e8968c5100>,\n",
       " 'ERWCJ164DC': <__main__.Client at 0x1e8968c4290>,\n",
       " 'LMEAAEG694DC': <__main__.Client at 0x1e8968c6750>,\n",
       " 'RGALNW318DC': <__main__.Client at 0x1e8968c7a40>,\n",
       " 'YEBA047COB': <__main__.Client at 0x1e8968c74a0>,\n",
       " 'SEMEFLILLT443DC': <__main__.Client at 0x1e8968c4e60>,\n",
       " 'DGS619PLCC': <__main__.Client at 0x1e8968c4ad0>,\n",
       " 'EORHVCN154DC': <__main__.Client at 0x1e8968c7830>,\n",
       " 'ATBCLRAR077': <__main__.Client at 0x1e8968c4d10>,\n",
       " 'RAEGLEMAEI254': <__main__.Client at 0x1e8968c61e0>,\n",
       " 'BLARARTC432DC': <__main__.Client at 0x1e8968c7ce0>,\n",
       " 'WLCRPEJ828': <__main__.Client at 0x1e8968c5a60>,\n",
       " 'GRLNAW782PLCC': <__main__.Client at 0x1e8968c6360>,\n",
       " 'RTU038DC': <__main__.Client at 0x1e8968c6e70>,\n",
       " 'WSLEO947DC': <__main__.Client at 0x1e8968c78f0>,\n",
       " 'DUEAABLY384': <__main__.Client at 0x1e8968c7b30>,\n",
       " 'LPPAAY817': <__main__.Client at 0x1e8968c66f0>,\n",
       " 'NCHSBPO661': <__main__.Client at 0x1e8968c69f0>,\n",
       " 'NSH241DC': <__main__.Client at 0x1e8968c6a20>,\n",
       " 'TEHAMO130': <__main__.Client at 0x1e8968c4710>,\n",
       " 'RNEDGIIVR336': <__main__.Client at 0x1e8968c7b90>}"
      ]
     },
     "execution_count": 31,
     "metadata": {},
     "output_type": "execute_result"
    }
   ],
   "source": [
    "masterClientDictionary"
   ]
  },
  {
   "cell_type": "code",
   "execution_count": null,
   "metadata": {},
   "outputs": [],
   "source": []
  },
  {
   "cell_type": "code",
   "execution_count": null,
   "metadata": {},
   "outputs": [],
   "source": []
  },
  {
   "cell_type": "code",
   "execution_count": null,
   "metadata": {},
   "outputs": [],
   "source": []
  },
  {
   "cell_type": "code",
   "execution_count": null,
   "metadata": {},
   "outputs": [],
   "source": []
  },
  {
   "cell_type": "code",
   "execution_count": 15,
   "metadata": {},
   "outputs": [
    {
     "name": "stdout",
     "output_type": "stream",
     "text": [
      "[0 1 1 0 1 0 0 1 1 1 0 0 1 1 1 2 0 0 1 1 0 2 2 2 2 2 1 0 0 0]\n"
     ]
    }
   ],
   "source": [
    "from xgboost import XGBClassifier\n",
    "# read data\n",
    "from sklearn.datasets import load_iris\n",
    "from sklearn.model_selection import train_test_split\n",
    "data = load_iris()\n",
    "X_train, X_test, y_train, y_test = train_test_split(data['data'], data['target'], test_size=.2)\n",
    "# create model instance\n",
    "bst = XGBClassifier(n_estimators=2, max_depth=2, learning_rate=1, objective='binary:logistic')\n",
    "# fit model\n",
    "bst.fit(X_train, y_train)\n",
    "# make predictions\n",
    "preds = bst.predict(X_test)\n",
    "\n",
    "print(preds)"
   ]
  }
 ],
 "metadata": {
  "kernelspec": {
   "display_name": "general",
   "language": "python",
   "name": "python3"
  },
  "language_info": {
   "codemirror_mode": {
    "name": "ipython",
    "version": 3
   },
   "file_extension": ".py",
   "mimetype": "text/x-python",
   "name": "python",
   "nbconvert_exporter": "python",
   "pygments_lexer": "ipython3",
   "version": "3.12.1"
  }
 },
 "nbformat": 4,
 "nbformat_minor": 2
}
