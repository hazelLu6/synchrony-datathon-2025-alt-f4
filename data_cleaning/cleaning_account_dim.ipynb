{
 "cells": [
  {
   "cell_type": "code",
   "execution_count": 8,
   "metadata": {},
   "outputs": [
    {
     "name": "stdout",
     "output_type": "stream",
     "text": [
      "  current_account_nbr     client_id                      open_date  \\\n",
      "0    nTgalbpd5Rsol7CA   YCTHAA278DC  2020-07-17T00:00:00.000-04:00   \n",
      "1    xYaLrD9IvmbVl1PB   CCSP489PLCC  2024-07-24T00:00:00.000-04:00   \n",
      "2    JM78WNziiRWgmL8e  HGBHARRFT984  2024-05-05T00:00:00.000-04:00   \n",
      "3    bv4NLVhWTGCf8KgC      OSELW263  2024-07-28T00:00:00.000-04:00   \n",
      "4    nrXceQabYIHo31lp  HGBHARRFT984  2024-09-15T00:00:00.000-04:00   \n",
      "5    L0r6GlmV0Ngx7E9P   ONEMV447COB  2024-05-12T00:00:00.000-04:00   \n",
      "6    JiogbNNfOSWVGjdr   CCSP489PLCC  2024-09-10T00:00:00.000-04:00   \n",
      "7    nb2pG80DDq4ucyZI   ARPPYALC768  2024-06-18T00:00:00.000-04:00   \n",
      "8    kqrsB4FtU00uXpWU      OSELW263  2024-06-30T00:00:00.000-04:00   \n",
      "9    ppwFGSPBF57u8319      JTX290DC  2024-08-23T00:00:00.000-04:00   \n",
      "\n",
      "            card_activation_date card_activation_flag ebill_ind  \\\n",
      "0                            NaN                    8         E   \n",
      "1  2024-08-09T00:00:00.000-04:00                    0         E   \n",
      "2  2024-05-05T00:00:00.000-04:00                    0  \\\\\\\\\\\\\"\"   \n",
      "3  2024-09-08T00:00:00.000-04:00                    0  \\\\\\\\\\\\\"\"   \n",
      "4  2024-09-15T00:00:00.000-04:00                    0  \\\\\\\\\\\\\"\"   \n",
      "5  2024-05-12T00:00:00.000-04:00                    0         E   \n",
      "6  2024-09-10T00:00:00.000-04:00                    0         E   \n",
      "7  2024-06-18T00:00:00.000-04:00                    0         E   \n",
      "8  2025-01-10T00:00:00.000-05:00                    0  \\\\\\\\\\\\\"\"   \n",
      "9  2024-09-05T00:00:00.000-04:00                    0         E   \n",
      "\n",
      "   date_in_collection  overlimit_type_flag payment_hist_1_12_mths  \\\n",
      "0                 NaN                    0           ZZZZZZIAZZZZ   \n",
      "1                 NaN                    0               IQIIIQIA   \n",
      "2                 NaN                    0            IIIQIQIIIIA   \n",
      "3                 NaN                    0                I1III1A   \n",
      "4                 NaN                    0               \\\\\\\\\\\\\"\"   \n",
      "5                 NaN                    0               \\\\\\\\\\\\\"\"   \n",
      "6                 NaN                    0               \\\\\\\\\\\\\"\"   \n",
      "7                 NaN                    0             QIQIQQQQQA   \n",
      "8                 NaN                    0                    IQQ   \n",
      "9                 NaN                    0                QIQQQQA   \n",
      "\n",
      "  payment_hist_13_24_mths employee_code  external_status_reason_code  \\\n",
      "0            ZZZZIIIQIIII           NaN                            0   \n",
      "1                \\\\\\\\\\\\\"\"           NaN                            0   \n",
      "2                \\\\\\\\\\\\\"\"           NaN                            0   \n",
      "3                \\\\\\\\\\\\\"\"           NaN                            0   \n",
      "4                \\\\\\\\\\\\\"\"           NaN                            0   \n",
      "5                \\\\\\\\\\\\\"\"           NaN                            0   \n",
      "6                \\\\\\\\\\\\\"\"           NaN                            0   \n",
      "7                \\\\\\\\\\\\\"\"           NaN                            0   \n",
      "8                \\\\\\\\\\\\\"\"           NaN                            0   \n",
      "9                \\\\\\\\\\\\\"\"           NaN                            0   \n",
      "\n",
      "   special_finance_charge_ind  pscc_ind ext_status_reason_cd_desc  \\\n",
      "0                         NaN         0                       NaN   \n",
      "1                         NaN         1                       NaN   \n",
      "2                         NaN         0                       NaN   \n",
      "3                         NaN         0                       NaN   \n",
      "4                         NaN         0                       NaN   \n",
      "5                         NaN         0                       NaN   \n",
      "6                         NaN         1                       NaN   \n",
      "7                         NaN         0                       NaN   \n",
      "8                         NaN         0                       NaN   \n",
      "9                         NaN         0                       NaN   \n",
      "\n",
      "  account_card_type  \n",
      "0         DUAL CARD  \n",
      "1         DUAL CARD  \n",
      "2              PLCC  \n",
      "3              PLCC  \n",
      "4              PLCC  \n",
      "5         DUAL CARD  \n",
      "6              PLCC  \n",
      "7              PLCC  \n",
      "8              PLCC  \n",
      "9         DUAL CARD  \n",
      "18070\n"
     ]
    }
   ],
   "source": [
    "import pandas as pd\n",
    "\n",
    "df = pd.read_csv('../data/account_dim_20250325.csv')\n",
    "\n",
    "print(df.head(10))\n",
    "\n",
    "print(len(df))"
   ]
  },
  {
   "cell_type": "code",
   "execution_count": 7,
   "metadata": {},
   "outputs": [
    {
     "name": "stdout",
     "output_type": "stream",
     "text": [
      "date_in_collection             18070\n",
      "special_finance_charge_ind     18070\n",
      "ext_status_reason_cd_desc      15493\n",
      "employee_code                  15067\n",
      "card_activation_date            2847\n",
      "ebill_ind                         18\n",
      "current_account_nbr                0\n",
      "client_id                          0\n",
      "open_date                          0\n",
      "card_activation_flag               0\n",
      "overlimit_type_flag                0\n",
      "payment_hist_1_12_mths             0\n",
      "payment_hist_13_24_mths            0\n",
      "external_status_reason_code        0\n",
      "pscc_ind                           0\n",
      "account_card_type                  0\n",
      "dtype: int64\n"
     ]
    }
   ],
   "source": [
    "def check_na_columns(df):\n",
    "  \n",
    "  na_counts = df.isna().sum()\n",
    "  na_counts_sorted = na_counts.sort_values(ascending=False)\n",
    "  return na_counts_sorted\n",
    "\n",
    "na_columns = check_na_columns(df)\n",
    "print(na_columns)"
   ]
  }
 ],
 "metadata": {
  "kernelspec": {
   "display_name": ".venv",
   "language": "python",
   "name": "python3"
  },
  "language_info": {
   "codemirror_mode": {
    "name": "ipython",
    "version": 3
   },
   "file_extension": ".py",
   "mimetype": "text/x-python",
   "name": "python",
   "nbconvert_exporter": "python",
   "pygments_lexer": "ipython3",
   "version": "3.12.8"
  }
 },
 "nbformat": 4,
 "nbformat_minor": 2
}
