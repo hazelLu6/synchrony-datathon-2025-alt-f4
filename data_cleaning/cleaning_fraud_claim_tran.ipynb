{
 "cells": [
  {
   "cell_type": "code",
   "execution_count": null,
   "metadata": {},
   "outputs": [],
   "source": [
    "#am\n",
    "import pandas as pd\n",
    "from ipynb.fs.full.cleaning_account_dim import check_na_columns"
   ]
  },
  {
   "cell_type": "code",
   "execution_count": 1,
   "metadata": {},
   "outputs": [
    {
     "ename": "NameError",
     "evalue": "name 'pd' is not defined",
     "output_type": "error",
     "traceback": [
      "\u001b[31m---------------------------------------------------------------------------\u001b[39m",
      "\u001b[31mNameError\u001b[39m                                 Traceback (most recent call last)",
      "\u001b[36mCell\u001b[39m\u001b[36m \u001b[39m\u001b[32mIn[1]\u001b[39m\u001b[32m, line 1\u001b[39m\n\u001b[32m----> \u001b[39m\u001b[32m1\u001b[39m df = \u001b[43mpd\u001b[49m.read_csv(\u001b[33m\"\u001b[39m\u001b[33m../data/fraud_claim_tran_20250325.csv\u001b[39m\u001b[33m\"\u001b[39m)\n\u001b[32m      2\u001b[39m df.head(\u001b[32m10\u001b[39m)\n",
      "\u001b[31mNameError\u001b[39m: name 'pd' is not defined"
     ]
    }
   ],
   "source": [
    "df = pd.read_csv(\"../data/fraud_claim_tran_20250325.csv\")\n",
    "df.head(10)"
   ]
  },
  {
   "cell_type": "code",
   "execution_count": null,
   "metadata": {},
   "outputs": [
    {
     "data": {
      "text/plain": [
       "202"
      ]
     },
     "execution_count": 40,
     "metadata": {},
     "output_type": "execute_result"
    }
   ],
   "source": [
    "df.shape[0]"
   ]
  },
  {
   "cell_type": "code",
   "execution_count": null,
   "metadata": {},
   "outputs": [
    {
     "data": {
      "text/plain": [
       "current_account_nbr     object\n",
       "case_id                  int64\n",
       "transaction_dt          object\n",
       "transaction_am         float64\n",
       "dtype: object"
      ]
     },
     "execution_count": 41,
     "metadata": {},
     "output_type": "execute_result"
    }
   ],
   "source": [
    "df.dtypes"
   ]
  },
  {
   "cell_type": "markdown",
   "metadata": {},
   "source": [
    "### Converting Date Time"
   ]
  },
  {
   "cell_type": "code",
   "execution_count": null,
   "metadata": {},
   "outputs": [
    {
     "data": {
      "text/plain": [
       "current_account_nbr    0\n",
       "case_id                0\n",
       "transaction_dt         0\n",
       "transaction_am         0\n",
       "dtype: int64"
      ]
     },
     "execution_count": 42,
     "metadata": {},
     "output_type": "execute_result"
    }
   ],
   "source": [
    "check_na_columns(df)"
   ]
  },
  {
   "cell_type": "code",
   "execution_count": null,
   "metadata": {},
   "outputs": [],
   "source": [
    "cols_to_replace = ['transaction_dt']"
   ]
  },
  {
   "cell_type": "code",
   "execution_count": null,
   "metadata": {},
   "outputs": [
    {
     "data": {
      "text/plain": [
       "current_account_nbr                 object\n",
       "case_id                              int64\n",
       "transaction_dt         datetime64[ns, UTC]\n",
       "transaction_am                     float64\n",
       "dtype: object"
      ]
     },
     "execution_count": 44,
     "metadata": {},
     "output_type": "execute_result"
    }
   ],
   "source": [
    "for col in cols_to_replace:\n",
    "    df[col] = pd.to_datetime(df[col], utc=True)\n",
    "\n",
    "df.dtypes"
   ]
  },
  {
   "cell_type": "code",
   "execution_count": null,
   "metadata": {},
   "outputs": [
    {
     "data": {
      "text/html": [
       "<div>\n",
       "<style scoped>\n",
       "    .dataframe tbody tr th:only-of-type {\n",
       "        vertical-align: middle;\n",
       "    }\n",
       "\n",
       "    .dataframe tbody tr th {\n",
       "        vertical-align: top;\n",
       "    }\n",
       "\n",
       "    .dataframe thead th {\n",
       "        text-align: right;\n",
       "    }\n",
       "</style>\n",
       "<table border=\"1\" class=\"dataframe\">\n",
       "  <thead>\n",
       "    <tr style=\"text-align: right;\">\n",
       "      <th></th>\n",
       "      <th>current_account_nbr</th>\n",
       "      <th>case_id</th>\n",
       "      <th>transaction_dt</th>\n",
       "      <th>transaction_am</th>\n",
       "    </tr>\n",
       "  </thead>\n",
       "  <tbody>\n",
       "    <tr>\n",
       "      <th>0</th>\n",
       "      <td>KQQdmrooVFs1Devc</td>\n",
       "      <td>3202508301390</td>\n",
       "      <td>2025-03-12 20:00:00+00:00</td>\n",
       "      <td>5.29</td>\n",
       "    </tr>\n",
       "    <tr>\n",
       "      <th>1</th>\n",
       "      <td>pSsrDqdWzfcfycPY</td>\n",
       "      <td>1202507700327</td>\n",
       "      <td>2025-01-31 19:00:00+00:00</td>\n",
       "      <td>10.53</td>\n",
       "    </tr>\n",
       "    <tr>\n",
       "      <th>2</th>\n",
       "      <td>n0PWMwNz6NKKESCn</td>\n",
       "      <td>3202508301490</td>\n",
       "      <td>2025-03-20 20:00:00+00:00</td>\n",
       "      <td>956.00</td>\n",
       "    </tr>\n",
       "    <tr>\n",
       "      <th>3</th>\n",
       "      <td>6pNTzbxXjNt2Vmzt</td>\n",
       "      <td>3202508301556</td>\n",
       "      <td>2025-03-04 19:00:00+00:00</td>\n",
       "      <td>2298.00</td>\n",
       "    </tr>\n",
       "    <tr>\n",
       "      <th>4</th>\n",
       "      <td>BZvkXIEsrZBFI7E6</td>\n",
       "      <td>3202508301411</td>\n",
       "      <td>2025-03-11 20:00:00+00:00</td>\n",
       "      <td>201.43</td>\n",
       "    </tr>\n",
       "    <tr>\n",
       "      <th>...</th>\n",
       "      <td>...</td>\n",
       "      <td>...</td>\n",
       "      <td>...</td>\n",
       "      <td>...</td>\n",
       "    </tr>\n",
       "    <tr>\n",
       "      <th>197</th>\n",
       "      <td>PaEqdbfhMbcWAbb2</td>\n",
       "      <td>3202503400513</td>\n",
       "      <td>2025-01-13 19:00:00+00:00</td>\n",
       "      <td>12.99</td>\n",
       "    </tr>\n",
       "    <tr>\n",
       "      <th>198</th>\n",
       "      <td>UycnUTDspyEcj0No</td>\n",
       "      <td>4202417301196</td>\n",
       "      <td>2024-05-26 20:00:00+00:00</td>\n",
       "      <td>19.51</td>\n",
       "    </tr>\n",
       "    <tr>\n",
       "      <th>199</th>\n",
       "      <td>ZB0SJEUntc0XyQuU</td>\n",
       "      <td>3202508301370</td>\n",
       "      <td>2025-03-11 20:00:00+00:00</td>\n",
       "      <td>277.02</td>\n",
       "    </tr>\n",
       "    <tr>\n",
       "      <th>200</th>\n",
       "      <td>KQQdmrooVFs1Devc</td>\n",
       "      <td>3202508301390</td>\n",
       "      <td>2025-03-12 20:00:00+00:00</td>\n",
       "      <td>18.29</td>\n",
       "    </tr>\n",
       "    <tr>\n",
       "      <th>201</th>\n",
       "      <td>nOfgWFfHnxJ7AhBK</td>\n",
       "      <td>4202431901233</td>\n",
       "      <td>2024-11-11 19:00:00+00:00</td>\n",
       "      <td>179.93</td>\n",
       "    </tr>\n",
       "  </tbody>\n",
       "</table>\n",
       "<p>202 rows × 4 columns</p>\n",
       "</div>"
      ],
      "text/plain": [
       "    current_account_nbr        case_id            transaction_dt  \\\n",
       "0      KQQdmrooVFs1Devc  3202508301390 2025-03-12 20:00:00+00:00   \n",
       "1      pSsrDqdWzfcfycPY  1202507700327 2025-01-31 19:00:00+00:00   \n",
       "2      n0PWMwNz6NKKESCn  3202508301490 2025-03-20 20:00:00+00:00   \n",
       "3      6pNTzbxXjNt2Vmzt  3202508301556 2025-03-04 19:00:00+00:00   \n",
       "4      BZvkXIEsrZBFI7E6  3202508301411 2025-03-11 20:00:00+00:00   \n",
       "..                  ...            ...                       ...   \n",
       "197    PaEqdbfhMbcWAbb2  3202503400513 2025-01-13 19:00:00+00:00   \n",
       "198    UycnUTDspyEcj0No  4202417301196 2024-05-26 20:00:00+00:00   \n",
       "199    ZB0SJEUntc0XyQuU  3202508301370 2025-03-11 20:00:00+00:00   \n",
       "200    KQQdmrooVFs1Devc  3202508301390 2025-03-12 20:00:00+00:00   \n",
       "201    nOfgWFfHnxJ7AhBK  4202431901233 2024-11-11 19:00:00+00:00   \n",
       "\n",
       "     transaction_am  \n",
       "0              5.29  \n",
       "1             10.53  \n",
       "2            956.00  \n",
       "3           2298.00  \n",
       "4            201.43  \n",
       "..              ...  \n",
       "197           12.99  \n",
       "198           19.51  \n",
       "199          277.02  \n",
       "200           18.29  \n",
       "201          179.93  \n",
       "\n",
       "[202 rows x 4 columns]"
      ]
     },
     "execution_count": 45,
     "metadata": {},
     "output_type": "execute_result"
    }
   ],
   "source": [
    "df"
   ]
  },
  {
   "cell_type": "code",
   "execution_count": null,
   "metadata": {},
   "outputs": [],
   "source": [
    "df.to_csv('cleaned_fraud_tran.csv', index=False)"
   ]
  }
 ],
 "metadata": {
  "kernelspec": {
   "display_name": ".venv",
   "language": "python",
   "name": "python3"
  },
  "language_info": {
   "codemirror_mode": {
    "name": "ipython",
    "version": 3
   },
   "file_extension": ".py",
   "mimetype": "text/x-python",
   "name": "python",
   "nbconvert_exporter": "python",
   "pygments_lexer": "ipython3",
   "version": "3.12.8"
  }
 },
 "nbformat": 4,
 "nbformat_minor": 2
}
