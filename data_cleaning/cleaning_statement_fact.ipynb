{
 "cells": [
  {
   "cell_type": "code",
   "execution_count": 2,
   "metadata": {},
   "outputs": [
    {
     "name": "stdout",
     "output_type": "stream",
     "text": [
      "date_in_collection             18070\n",
      "special_finance_charge_ind     18070\n",
      "ext_status_reason_cd_desc      15493\n",
      "employee_code                  15067\n",
      "card_activation_date            2847\n",
      "ebill_ind                         18\n",
      "current_account_nbr                0\n",
      "client_id                          0\n",
      "open_date                          0\n",
      "card_activation_flag               0\n",
      "overlimit_type_flag                0\n",
      "payment_hist_1_12_mths             0\n",
      "payment_hist_13_24_mths            0\n",
      "external_status_reason_code        0\n",
      "pscc_ind                           0\n",
      "account_card_type                  0\n",
      "dtype: int64\n",
      "current_account_nbr                         object\n",
      "client_id                                   object\n",
      "open_date                      datetime64[ns, UTC]\n",
      "card_activation_date           datetime64[ns, UTC]\n",
      "card_activation_flag                        object\n",
      "ebill_ind                                   object\n",
      "overlimit_type_flag                          int64\n",
      "payment_hist_1_12_mths                      object\n",
      "payment_hist_13_24_mths                     object\n",
      "high_income                                   bool\n",
      "external_status_reason_code                  int64\n",
      "pscc_ind                                      bool\n",
      "ext_status_reason_cd_desc                   object\n",
      "account_card_type                           object\n",
      "dtype: object\n"
     ]
    },
    {
     "name": "stderr",
     "output_type": "stream",
     "text": [
      "/Users/huaiyao/Desktop/synchrony-datathon-2025-alt-f4/data_cleaning/cleaning_account_dim.ipynb:32: FutureWarning: Downcasting behavior in `replace` is deprecated and will be removed in a future version. To retain the old behavior, explicitly call `result.infer_objects(copy=False)`. To opt-in to the future behavior, set `pd.set_option('future.no_silent_downcasting', True)`\n",
      "  \"      <th>card_activation_date</th>\\n\",\n"
     ]
    }
   ],
   "source": [
    "#am\n",
    "import pandas as pd\n",
    "from ipynb.fs.full.cleaning_account_dim import check_na_columns"
   ]
  },
  {
   "cell_type": "code",
   "execution_count": 3,
   "metadata": {},
   "outputs": [
    {
     "data": {
      "text/html": [
       "<div>\n",
       "<style scoped>\n",
       "    .dataframe tbody tr th:only-of-type {\n",
       "        vertical-align: middle;\n",
       "    }\n",
       "\n",
       "    .dataframe tbody tr th {\n",
       "        vertical-align: top;\n",
       "    }\n",
       "\n",
       "    .dataframe thead th {\n",
       "        text-align: right;\n",
       "    }\n",
       "</style>\n",
       "<table border=\"1\" class=\"dataframe\">\n",
       "  <thead>\n",
       "    <tr style=\"text-align: right;\">\n",
       "      <th></th>\n",
       "      <th>current_account_nbr</th>\n",
       "      <th>billing_cycle_date</th>\n",
       "      <th>payment_hist_1_12_mths</th>\n",
       "      <th>return_check_cnt_2yr</th>\n",
       "      <th>return_check_cnt_last_mth</th>\n",
       "      <th>return_check_cnt_py</th>\n",
       "      <th>return_check_cnt_total</th>\n",
       "      <th>return_check_cnt_ytd</th>\n",
       "      <th>prev_balance</th>\n",
       "    </tr>\n",
       "  </thead>\n",
       "  <tbody>\n",
       "    <tr>\n",
       "      <th>0</th>\n",
       "      <td>PKgK5204A2hwjCfA</td>\n",
       "      <td>2019-02-01</td>\n",
       "      <td>QQQQQQQQQQQQ</td>\n",
       "      <td>0</td>\n",
       "      <td>99</td>\n",
       "      <td>0</td>\n",
       "      <td>0</td>\n",
       "      <td>0</td>\n",
       "      <td>5152.54</td>\n",
       "    </tr>\n",
       "    <tr>\n",
       "      <th>1</th>\n",
       "      <td>iOOwMzkHGaPVUDVL</td>\n",
       "      <td>2018-09-20</td>\n",
       "      <td>IIIAZZZZZZZZ</td>\n",
       "      <td>0</td>\n",
       "      <td>99</td>\n",
       "      <td>0</td>\n",
       "      <td>0</td>\n",
       "      <td>0</td>\n",
       "      <td>311.71</td>\n",
       "    </tr>\n",
       "    <tr>\n",
       "      <th>2</th>\n",
       "      <td>jXzGZNN2VER7OPYX</td>\n",
       "      <td>2023-12-27</td>\n",
       "      <td>QQQQQIIIIQQQ</td>\n",
       "      <td>0</td>\n",
       "      <td>99</td>\n",
       "      <td>0</td>\n",
       "      <td>0</td>\n",
       "      <td>0</td>\n",
       "      <td>1482.13</td>\n",
       "    </tr>\n",
       "    <tr>\n",
       "      <th>3</th>\n",
       "      <td>LHeW9saekessmQ64</td>\n",
       "      <td>2024-05-16</td>\n",
       "      <td>IIIIIIA</td>\n",
       "      <td>0</td>\n",
       "      <td>99</td>\n",
       "      <td>0</td>\n",
       "      <td>0</td>\n",
       "      <td>0</td>\n",
       "      <td>1039.10</td>\n",
       "    </tr>\n",
       "    <tr>\n",
       "      <th>4</th>\n",
       "      <td>3F9novlPuaHD8tZz</td>\n",
       "      <td>2025-01-13</td>\n",
       "      <td>IIIIIIIIIIII</td>\n",
       "      <td>0</td>\n",
       "      <td>99</td>\n",
       "      <td>0</td>\n",
       "      <td>0</td>\n",
       "      <td>0</td>\n",
       "      <td>1392.79</td>\n",
       "    </tr>\n",
       "    <tr>\n",
       "      <th>5</th>\n",
       "      <td>4uiUOYGAaZXOvKtj</td>\n",
       "      <td>2015-04-02</td>\n",
       "      <td>IQIIQAZZZZII</td>\n",
       "      <td>0</td>\n",
       "      <td>99</td>\n",
       "      <td>0</td>\n",
       "      <td>0</td>\n",
       "      <td>0</td>\n",
       "      <td>111.28</td>\n",
       "    </tr>\n",
       "    <tr>\n",
       "      <th>6</th>\n",
       "      <td>HYYTF5AmJRNzKPPV</td>\n",
       "      <td>2020-04-17</td>\n",
       "      <td>AZIQQQQQQQIQ</td>\n",
       "      <td>0</td>\n",
       "      <td>99</td>\n",
       "      <td>0</td>\n",
       "      <td>0</td>\n",
       "      <td>0</td>\n",
       "      <td>-20.00</td>\n",
       "    </tr>\n",
       "    <tr>\n",
       "      <th>7</th>\n",
       "      <td>jyxOkab6cITjLlA6</td>\n",
       "      <td>2020-10-09</td>\n",
       "      <td>QQIQQQQIQIQQ</td>\n",
       "      <td>0</td>\n",
       "      <td>99</td>\n",
       "      <td>0</td>\n",
       "      <td>0</td>\n",
       "      <td>0</td>\n",
       "      <td>1597.62</td>\n",
       "    </tr>\n",
       "    <tr>\n",
       "      <th>8</th>\n",
       "      <td>tr4FojChL3dD1SoF</td>\n",
       "      <td>2021-01-11</td>\n",
       "      <td>QQQQQQQBQQQQ</td>\n",
       "      <td>0</td>\n",
       "      <td>99</td>\n",
       "      <td>0</td>\n",
       "      <td>0</td>\n",
       "      <td>0</td>\n",
       "      <td>6601.39</td>\n",
       "    </tr>\n",
       "    <tr>\n",
       "      <th>9</th>\n",
       "      <td>biZIjy4RpKMA3LVS</td>\n",
       "      <td>2022-09-28</td>\n",
       "      <td>ZZZZZZZZZZZZ</td>\n",
       "      <td>0</td>\n",
       "      <td>99</td>\n",
       "      <td>0</td>\n",
       "      <td>0</td>\n",
       "      <td>0</td>\n",
       "      <td>-20.00</td>\n",
       "    </tr>\n",
       "  </tbody>\n",
       "</table>\n",
       "</div>"
      ],
      "text/plain": [
       "  current_account_nbr billing_cycle_date payment_hist_1_12_mths  \\\n",
       "0    PKgK5204A2hwjCfA         2019-02-01           QQQQQQQQQQQQ   \n",
       "1    iOOwMzkHGaPVUDVL         2018-09-20           IIIAZZZZZZZZ   \n",
       "2    jXzGZNN2VER7OPYX         2023-12-27           QQQQQIIIIQQQ   \n",
       "3    LHeW9saekessmQ64         2024-05-16                IIIIIIA   \n",
       "4    3F9novlPuaHD8tZz         2025-01-13           IIIIIIIIIIII   \n",
       "5    4uiUOYGAaZXOvKtj         2015-04-02           IQIIQAZZZZII   \n",
       "6    HYYTF5AmJRNzKPPV         2020-04-17           AZIQQQQQQQIQ   \n",
       "7    jyxOkab6cITjLlA6         2020-10-09           QQIQQQQIQIQQ   \n",
       "8    tr4FojChL3dD1SoF         2021-01-11           QQQQQQQBQQQQ   \n",
       "9    biZIjy4RpKMA3LVS         2022-09-28           ZZZZZZZZZZZZ   \n",
       "\n",
       "   return_check_cnt_2yr  return_check_cnt_last_mth  return_check_cnt_py  \\\n",
       "0                     0                         99                    0   \n",
       "1                     0                         99                    0   \n",
       "2                     0                         99                    0   \n",
       "3                     0                         99                    0   \n",
       "4                     0                         99                    0   \n",
       "5                     0                         99                    0   \n",
       "6                     0                         99                    0   \n",
       "7                     0                         99                    0   \n",
       "8                     0                         99                    0   \n",
       "9                     0                         99                    0   \n",
       "\n",
       "   return_check_cnt_total  return_check_cnt_ytd  prev_balance  \n",
       "0                       0                     0       5152.54  \n",
       "1                       0                     0        311.71  \n",
       "2                       0                     0       1482.13  \n",
       "3                       0                     0       1039.10  \n",
       "4                       0                     0       1392.79  \n",
       "5                       0                     0        111.28  \n",
       "6                       0                     0        -20.00  \n",
       "7                       0                     0       1597.62  \n",
       "8                       0                     0       6601.39  \n",
       "9                       0                     0        -20.00  "
      ]
     },
     "execution_count": 3,
     "metadata": {},
     "output_type": "execute_result"
    }
   ],
   "source": [
    "df = pd.read_csv(\"../data/statement_fact_20250325.csv\")\n",
    "df.head(10)"
   ]
  },
  {
   "cell_type": "code",
   "execution_count": 4,
   "metadata": {},
   "outputs": [
    {
     "data": {
      "text/plain": [
       "(658228, 9)"
      ]
     },
     "execution_count": 4,
     "metadata": {},
     "output_type": "execute_result"
    }
   ],
   "source": [
    "df.shape"
   ]
  },
  {
   "cell_type": "code",
   "execution_count": 5,
   "metadata": {},
   "outputs": [
    {
     "data": {
      "text/plain": [
       "current_account_nbr          0\n",
       "billing_cycle_date           0\n",
       "payment_hist_1_12_mths       0\n",
       "return_check_cnt_2yr         0\n",
       "return_check_cnt_last_mth    0\n",
       "return_check_cnt_py          0\n",
       "return_check_cnt_total       0\n",
       "return_check_cnt_ytd         0\n",
       "prev_balance                 0\n",
       "dtype: int64"
      ]
     },
     "execution_count": 5,
     "metadata": {},
     "output_type": "execute_result"
    }
   ],
   "source": [
    "check_na_columns(df)"
   ]
  },
  {
   "cell_type": "code",
   "execution_count": 6,
   "metadata": {},
   "outputs": [
    {
     "data": {
      "text/html": [
       "<div>\n",
       "<style scoped>\n",
       "    .dataframe tbody tr th:only-of-type {\n",
       "        vertical-align: middle;\n",
       "    }\n",
       "\n",
       "    .dataframe tbody tr th {\n",
       "        vertical-align: top;\n",
       "    }\n",
       "\n",
       "    .dataframe thead th {\n",
       "        text-align: right;\n",
       "    }\n",
       "</style>\n",
       "<table border=\"1\" class=\"dataframe\">\n",
       "  <thead>\n",
       "    <tr style=\"text-align: right;\">\n",
       "      <th></th>\n",
       "      <th>current_account_nbr</th>\n",
       "      <th>billing_cycle_date</th>\n",
       "      <th>payment_hist_1_12_mths</th>\n",
       "      <th>return_check_cnt_2yr</th>\n",
       "      <th>return_check_cnt_last_mth</th>\n",
       "      <th>return_check_cnt_py</th>\n",
       "      <th>return_check_cnt_total</th>\n",
       "      <th>return_check_cnt_ytd</th>\n",
       "      <th>prev_balance</th>\n",
       "    </tr>\n",
       "  </thead>\n",
       "  <tbody>\n",
       "    <tr>\n",
       "      <th>0</th>\n",
       "      <td>PKgK5204A2hwjCfA</td>\n",
       "      <td>2019-02-01</td>\n",
       "      <td>QQQQQQQQQQQQ</td>\n",
       "      <td>0</td>\n",
       "      <td>99</td>\n",
       "      <td>0</td>\n",
       "      <td>0</td>\n",
       "      <td>0</td>\n",
       "      <td>5152.54</td>\n",
       "    </tr>\n",
       "    <tr>\n",
       "      <th>1</th>\n",
       "      <td>iOOwMzkHGaPVUDVL</td>\n",
       "      <td>2018-09-20</td>\n",
       "      <td>IIIAZZZZZZZZ</td>\n",
       "      <td>0</td>\n",
       "      <td>99</td>\n",
       "      <td>0</td>\n",
       "      <td>0</td>\n",
       "      <td>0</td>\n",
       "      <td>311.71</td>\n",
       "    </tr>\n",
       "    <tr>\n",
       "      <th>2</th>\n",
       "      <td>jXzGZNN2VER7OPYX</td>\n",
       "      <td>2023-12-27</td>\n",
       "      <td>QQQQQIIIIQQQ</td>\n",
       "      <td>0</td>\n",
       "      <td>99</td>\n",
       "      <td>0</td>\n",
       "      <td>0</td>\n",
       "      <td>0</td>\n",
       "      <td>1482.13</td>\n",
       "    </tr>\n",
       "    <tr>\n",
       "      <th>3</th>\n",
       "      <td>LHeW9saekessmQ64</td>\n",
       "      <td>2024-05-16</td>\n",
       "      <td>IIIIIIA</td>\n",
       "      <td>0</td>\n",
       "      <td>99</td>\n",
       "      <td>0</td>\n",
       "      <td>0</td>\n",
       "      <td>0</td>\n",
       "      <td>1039.10</td>\n",
       "    </tr>\n",
       "    <tr>\n",
       "      <th>4</th>\n",
       "      <td>3F9novlPuaHD8tZz</td>\n",
       "      <td>2025-01-13</td>\n",
       "      <td>IIIIIIIIIIII</td>\n",
       "      <td>0</td>\n",
       "      <td>99</td>\n",
       "      <td>0</td>\n",
       "      <td>0</td>\n",
       "      <td>0</td>\n",
       "      <td>1392.79</td>\n",
       "    </tr>\n",
       "  </tbody>\n",
       "</table>\n",
       "</div>"
      ],
      "text/plain": [
       "  current_account_nbr billing_cycle_date payment_hist_1_12_mths  \\\n",
       "0    PKgK5204A2hwjCfA         2019-02-01           QQQQQQQQQQQQ   \n",
       "1    iOOwMzkHGaPVUDVL         2018-09-20           IIIAZZZZZZZZ   \n",
       "2    jXzGZNN2VER7OPYX         2023-12-27           QQQQQIIIIQQQ   \n",
       "3    LHeW9saekessmQ64         2024-05-16                IIIIIIA   \n",
       "4    3F9novlPuaHD8tZz         2025-01-13           IIIIIIIIIIII   \n",
       "\n",
       "   return_check_cnt_2yr  return_check_cnt_last_mth  return_check_cnt_py  \\\n",
       "0                     0                         99                    0   \n",
       "1                     0                         99                    0   \n",
       "2                     0                         99                    0   \n",
       "3                     0                         99                    0   \n",
       "4                     0                         99                    0   \n",
       "\n",
       "   return_check_cnt_total  return_check_cnt_ytd  prev_balance  \n",
       "0                       0                     0       5152.54  \n",
       "1                       0                     0        311.71  \n",
       "2                       0                     0       1482.13  \n",
       "3                       0                     0       1039.10  \n",
       "4                       0                     0       1392.79  "
      ]
     },
     "execution_count": 6,
     "metadata": {},
     "output_type": "execute_result"
    }
   ],
   "source": [
    "df.head()"
   ]
  },
  {
   "cell_type": "code",
   "execution_count": 7,
   "metadata": {},
   "outputs": [
    {
     "data": {
      "text/plain": [
       "current_account_nbr           object\n",
       "billing_cycle_date            object\n",
       "payment_hist_1_12_mths        object\n",
       "return_check_cnt_2yr           int64\n",
       "return_check_cnt_last_mth      int64\n",
       "return_check_cnt_py            int64\n",
       "return_check_cnt_total         int64\n",
       "return_check_cnt_ytd           int64\n",
       "prev_balance                 float64\n",
       "dtype: object"
      ]
     },
     "execution_count": 7,
     "metadata": {},
     "output_type": "execute_result"
    }
   ],
   "source": [
    "# check appropriate data types\n",
    "df.dtypes"
   ]
  },
  {
   "cell_type": "code",
   "execution_count": 8,
   "metadata": {},
   "outputs": [],
   "source": [
    "# Occurs 12 Times business Name: Card Account Payment Historycode these Fields are The Activity Indicators\n",
    "#  For The Last12-Statement Cycles (Left To Right).\n",
    "#  The 12 Status Flagsrotate When The Account Cycles So That The Left Mostflag Indicates The AccountS Status During \n",
    "# The Last Cycle and The Right Most Flag Indicates The Account's Statusduring The Current Cycle One Year Ago. \n",
    "# The Systemautomatically Changes The First Flag When TheaccountS Status Changes Due To An Account Transfer Ordue\n",
    "#  To An Across-Cycle Reversal Adjustment Or Interestcharge-Off. Only The First Flag On The Left (Last Cycle)Changes \n",
    "# By These Postings. At Cycle Time The Systemassesses The AccountS Status And Places Anappropriate Status Flag In The\n",
    "#  First Position.Flag Values Are:0 ? 7 = No Postings During The Cycle (The Numberindicates The Number Of Cycles \n",
    "# Delinquent)A ? H = Debit Postings Only During The Cyclez = Account Not Statemented Because Of Zero Balanceand No \n",
    "# Activity\n",
    "# \n",
    "# valid Values Are:\n",
    "# A= Account Not Delinquent\n",
    "# b = Account 1 Cycle Delinquent\n",
    "# c = Account 2 Cycles Delinquent\n",
    "# d = Account 3 Cycles Delinquent\n",
    "# e= Account 4 Cycles Delinquent\n",
    "# f = Account 5 Cycles Delinquent\n",
    "# g = Account 6 Cycles Delinquent\n",
    "# h = Account 7 Cycles Delinquent\n",
    "# i ? \n",
    "# P = Credit Postings Only During The Cyclevalid Values Are:\n",
    "# I = Account Not Delinquentj = Account 1 Cycle Delinquent\n",
    "# k = Account 2 Cycles Delinquent\n",
    "# l = Account 3 Cycles Delinquent\n",
    "# m = Account 4 Cycles Delinquent\n",
    "# n = Account 5 Cycles Delinquent\n",
    "# o = Account 6 Cycles Delinquent\n",
    "# p = Account 7 Cycles Delinquent\n",
    "# u = Account 4 Cycles Delinquent\n",
    "# v = Account 5 Cycles Delinquent\n",
    "# w = Account 6 Cycles Delinquent\n",
    "# x = Account 7 Cycles Delinquent\n",
    "# % = Credit Balance With No Activity # = Credit Balance With Debit And Credit Activity\n",
    "# + = Credit Balance With Debit Activity Only- \n",
    "# - = Credit Balance With Credit Activity Onlynote: Debit Activity Means Sale And Cash Advancepostings;\n",
    "#  Credit Activity Means Payment Andreturn Postings.\n",
    "\n",
    "# External status values and its description\n",
    "# A - Authorization prohibited\n",
    "# B - Bankrupt\n",
    "# C - Closed\n",
    "# E - Revoked\n",
    "# F - Frozen\n",
    "# I - Interest accrual prohibited\n",
    "# L - Lost\n",
    "# U - Stolen\n",
    "# Z - Charged off system assigned when a charge off adjustment is made\n",
    "# Blank/null - Normal"
   ]
  },
  {
   "cell_type": "code",
   "execution_count": 9,
   "metadata": {},
   "outputs": [
    {
     "data": {
      "text/plain": [
       "143646"
      ]
     },
     "execution_count": 9,
     "metadata": {},
     "output_type": "execute_result"
    }
   ],
   "source": [
    "len(df[\"payment_hist_1_12_mths\"].unique())"
   ]
  },
  {
   "cell_type": "code",
   "execution_count": 10,
   "metadata": {},
   "outputs": [
    {
     "data": {
      "text/plain": [
       "Index(['current_account_nbr', 'billing_cycle_date', 'payment_hist_1_12_mths',\n",
       "       'return_check_cnt_2yr', 'return_check_cnt_last_mth',\n",
       "       'return_check_cnt_py', 'return_check_cnt_total', 'return_check_cnt_ytd',\n",
       "       'prev_balance'],\n",
       "      dtype='object')"
      ]
     },
     "execution_count": 10,
     "metadata": {},
     "output_type": "execute_result"
    }
   ],
   "source": [
    "df.columns"
   ]
  },
  {
   "cell_type": "code",
   "execution_count": 11,
   "metadata": {},
   "outputs": [
    {
     "data": {
      "text/plain": [
       "863"
      ]
     },
     "execution_count": 11,
     "metadata": {},
     "output_type": "execute_result"
    }
   ],
   "source": [
    "df_account_names = df[\"current_account_nbr\"].value_counts().reset_index()\n",
    "df_account_names = df_account_names[df_account_names[\"count\"]==1].reset_index(drop=True)\n",
    "ids = df_account_names[\"current_account_nbr\"].unique()\n",
    "ids = list(df_account_names[\"current_account_nbr\"].unique())\n",
    "len(ids)"
   ]
  },
  {
   "cell_type": "code",
   "execution_count": 12,
   "metadata": {},
   "outputs": [],
   "source": [
    "df['return_check_cnt_last_mth'] = df['return_check_cnt_last_mth'].apply(lambda x: 0 if x == 99 else x)"
   ]
  },
  {
   "cell_type": "markdown",
   "metadata": {},
   "source": [
    "### converting to date-time object"
   ]
  },
  {
   "cell_type": "code",
   "execution_count": 13,
   "metadata": {},
   "outputs": [
    {
     "data": {
      "text/plain": [
       "current_account_nbr                  object\n",
       "billing_cycle_date           datetime64[ns]\n",
       "payment_hist_1_12_mths               object\n",
       "return_check_cnt_2yr                  int64\n",
       "return_check_cnt_last_mth             int64\n",
       "return_check_cnt_py                   int64\n",
       "return_check_cnt_total                int64\n",
       "return_check_cnt_ytd                  int64\n",
       "prev_balance                        float64\n",
       "dtype: object"
      ]
     },
     "execution_count": 13,
     "metadata": {},
     "output_type": "execute_result"
    }
   ],
   "source": [
    "df[\"billing_cycle_date\"] = pd.to_datetime(df[\"billing_cycle_date\"])\n",
    "df.dtypes"
   ]
  },
  {
   "cell_type": "code",
   "execution_count": 14,
   "metadata": {},
   "outputs": [],
   "source": [
    "df.to_csv(\"../cleaned_data/cleaned_statement_fact.csv\",index=False)"
   ]
  }
 ],
 "metadata": {
  "kernelspec": {
   "display_name": ".venv",
   "language": "python",
   "name": "python3"
  },
  "language_info": {
   "codemirror_mode": {
    "name": "ipython",
    "version": 3
   },
   "file_extension": ".py",
   "mimetype": "text/x-python",
   "name": "python",
   "nbconvert_exporter": "python",
   "pygments_lexer": "ipython3",
   "version": "3.12.8"
  }
 },
 "nbformat": 4,
 "nbformat_minor": 2
}
