{
 "cells": [
  {
   "cell_type": "code",
   "execution_count": 4,
   "metadata": {},
   "outputs": [
    {
     "data": {
      "text/plain": [
       "{(0, 0): np.float64(1.3882023369092893),\n",
       " (0, 1): np.float64(1.3146999400600734),\n",
       " (0, 2): np.float64(1.43137360498331),\n",
       " (0, 3): np.float64(1.2826853022519542),\n",
       " (1, 0): np.float64(1.7389036489749568),\n",
       " (1, 1): np.float64(1.5356381247802957),\n",
       " (1, 2): np.float64(1.6150855440104124),\n",
       " (1, 3): np.float64(1.5880122943138824)}"
      ]
     },
     "execution_count": 4,
     "metadata": {},
     "output_type": "execute_result"
    }
   ],
   "source": [
    "import pandas as pd\n",
    "# finding the holiday spending multiplier: average of q1-q3 spending / q4 spending\n",
    "\n",
    "df_master= pd.read_csv('exploratory_data_analysis/master_user_dataset_with_predictions.csv')\n",
    "\n",
    "def calculate_holiday_multiplier(df):\n",
    "    average_spend_q1 = df['spend_2024_q1'].agg('mean')\n",
    "    average_spend_q2 = df['spend_2024_q2'].agg('mean')\n",
    "    average_spend_q3 = df['spend_2024_q3'].agg('mean')\n",
    "    average_spend_q4 = df['spend_2024_q4'].agg('mean')\n",
    "    \n",
    "    return average_spend_q4 / ((average_spend_q1 + average_spend_q2 + average_spend_q3) / 3)\n",
    "\n",
    "income_groups = [0, 1]\n",
    "segment_labels = [0, 1, 2, 3]\n",
    "\n",
    "multipliers = {}\n",
    "for income in income_groups:\n",
    "    for segment in segment_labels:\n",
    "        filtered_df = df_master[(df_master[\"is_high_income\"] == income) & \n",
    "                                (df_master[\"segment_label\"] == segment)]\n",
    "        if not filtered_df.empty:\n",
    "            multiplier = calculate_holiday_multiplier(filtered_df)\n",
    "            multipliers[(income, segment)] = multiplier\n",
    "        else:\n",
    "            multipliers[(income, segment)] = None\n",
    "\n",
    "multipliers"
   ]
  }
 ],
 "metadata": {
  "kernelspec": {
   "display_name": "base",
   "language": "python",
   "name": "python3"
  },
  "language_info": {
   "codemirror_mode": {
    "name": "ipython",
    "version": 3
   },
   "file_extension": ".py",
   "mimetype": "text/x-python",
   "name": "python",
   "nbconvert_exporter": "python",
   "pygments_lexer": "ipython3",
   "version": "3.10.9"
  }
 },
 "nbformat": 4,
 "nbformat_minor": 2
}
