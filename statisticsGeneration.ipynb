{
 "cells": [
  {
   "cell_type": "code",
   "execution_count": 26,
   "metadata": {},
   "outputs": [],
   "source": [
    "import pickle"
   ]
  },
  {
   "cell_type": "code",
   "execution_count": 27,
   "metadata": {},
   "outputs": [],
   "source": [
    "class Account:\n",
    "    def __init__(self,id):\n",
    "        self.id = id\n",
    "        self.account_dim = [] # I think this data is account history\n",
    "        self.fraud_claim_cases = set() # set of associated claim id's\n",
    "        self.rams_batch_cur = []  #credit histories updated daily\n",
    "        self.statement_fact = []  #statement information\n",
    "        self.syf_id = [] #identifying account information\n",
    "        self.transaction_fact = [] #transactions\n",
    "        self.wrld_stor_tran_fact = [] # foreign transations I think"
   ]
  },
  {
   "cell_type": "code",
   "execution_count": 22,
   "metadata": {},
   "outputs": [],
   "source": [
    "class Client:\n",
    "    def __init__(self,id):\n",
    "        self.id = id\n",
    "        self.accounts = set() # set of associated account id's"
   ]
  },
  {
   "cell_type": "code",
   "execution_count": 23,
   "metadata": {},
   "outputs": [],
   "source": [
    "class FraudClaim:\n",
    "    def __init__(self,id):\n",
    "        self.id = id\n",
    "        self.claim_information = []\n",
    "        self.transaction_information = []"
   ]
  },
  {
   "cell_type": "code",
   "execution_count": 24,
   "metadata": {},
   "outputs": [],
   "source": [
    "class User:\n",
    "    def __init__(self,id):\n",
    "        self.id = id\n",
    "        self.accounts = set()"
   ]
  },
  {
   "cell_type": "code",
   "execution_count": 25,
   "metadata": {},
   "outputs": [
    {
     "name": "stdout",
     "output_type": "stream",
     "text": [
      "Unexpected exception formatting exception. Falling back to standard exception\n"
     ]
    },
    {
     "name": "stderr",
     "output_type": "stream",
     "text": [
      "Traceback (most recent call last):\n",
      "  File \"c:\\Users\\benja\\anaconda3\\envs\\general\\Lib\\site-packages\\IPython\\core\\interactiveshell.py\", line 3553, in run_code\n",
      "    exec(code_obj, self.user_global_ns, self.user_ns)\n",
      "  File \"C:\\Users\\benja\\AppData\\Local\\Temp\\ipykernel_24004\\2490659846.py\", line 5, in <module>\n",
      "    masterAccountDictionary = pickle.load(file)\n",
      "                              ^^^^^^^^^^^^^^^^^\n",
      "  File \"c:\\Users\\benja\\anaconda3\\envs\\general\\Lib\\site-packages\\pandas\\core\\series.py\", line 35, in <module>\n",
      "    from pandas._libs import (\n",
      "  File \"reshape.pyx\", line 1, in init pandas._libs.reshape\n",
      "  File \"c:\\Users\\benja\\anaconda3\\envs\\general\\Lib\\site-packages\\pandas\\__init__.py\", line 62, in <module>\n",
      "    from pandas.core.api import (\n",
      "  File \"c:\\Users\\benja\\anaconda3\\envs\\general\\Lib\\site-packages\\pandas\\core\\api.py\", line 47, in <module>\n",
      "    from pandas.core.groupby import (\n",
      "  File \"c:\\Users\\benja\\anaconda3\\envs\\general\\Lib\\site-packages\\pandas\\core\\groupby\\__init__.py\", line 1, in <module>\n",
      "    from pandas.core.groupby.generic import (\n",
      "  File \"c:\\Users\\benja\\anaconda3\\envs\\general\\Lib\\site-packages\\pandas\\core\\groupby\\generic.py\", line 68, in <module>\n",
      "    from pandas.core.frame import DataFrame\n",
      "  File \"c:\\Users\\benja\\anaconda3\\envs\\general\\Lib\\site-packages\\pandas\\core\\frame.py\", line 188, in <module>\n",
      "    from pandas.core.series import Series\n",
      "ImportError: cannot import name 'Series' from partially initialized module 'pandas.core.series' (most likely due to a circular import) (c:\\Users\\benja\\anaconda3\\envs\\general\\Lib\\site-packages\\pandas\\core\\series.py)\n",
      "\n",
      "During handling of the above exception, another exception occurred:\n",
      "\n",
      "Traceback (most recent call last):\n",
      "  File \"c:\\Users\\benja\\anaconda3\\envs\\general\\Lib\\site-packages\\IPython\\core\\interactiveshell.py\", line 2144, in showtraceback\n",
      "    stb = self.InteractiveTB.structured_traceback(\n",
      "          ^^^^^^^^^^^^^^^^^^^^^^^^^^^^^^^^^^^^^^^^\n",
      "  File \"c:\\Users\\benja\\anaconda3\\envs\\general\\Lib\\site-packages\\IPython\\core\\ultratb.py\", line 1448, in structured_traceback\n",
      "    return FormattedTB.structured_traceback(\n",
      "           ^^^^^^^^^^^^^^^^^^^^^^^^^^^^^^^^^\n",
      "  File \"c:\\Users\\benja\\anaconda3\\envs\\general\\Lib\\site-packages\\IPython\\core\\ultratb.py\", line 1339, in structured_traceback\n",
      "    return VerboseTB.structured_traceback(\n",
      "           ^^^^^^^^^^^^^^^^^^^^^^^^^^^^^^^\n",
      "  File \"c:\\Users\\benja\\anaconda3\\envs\\general\\Lib\\site-packages\\IPython\\core\\ultratb.py\", line 1186, in structured_traceback\n",
      "    formatted_exception = self.format_exception_as_a_whole(etype, evalue, etb, number_of_lines_of_context,\n",
      "                          ^^^^^^^^^^^^^^^^^^^^^^^^^^^^^^^^^^^^^^^^^^^^^^^^^^^^^^^^^^^^^^^^^^^^^^^^^^^^^^^^\n",
      "  File \"c:\\Users\\benja\\anaconda3\\envs\\general\\Lib\\site-packages\\IPython\\core\\ultratb.py\", line 1076, in format_exception_as_a_whole\n",
      "    self.get_records(etb, number_of_lines_of_context, tb_offset) if etb else []\n",
      "    ^^^^^^^^^^^^^^^^^^^^^^^^^^^^^^^^^^^^^^^^^^^^^^^^^^^^^^^^^^^^\n",
      "  File \"c:\\Users\\benja\\anaconda3\\envs\\general\\Lib\\site-packages\\IPython\\core\\ultratb.py\", line 1168, in get_records\n",
      "    FrameInfo(\n",
      "  File \"c:\\Users\\benja\\anaconda3\\envs\\general\\Lib\\site-packages\\IPython\\core\\ultratb.py\", line 780, in __init__\n",
      "    ix = inspect.getsourcelines(frame)\n",
      "         ^^^^^^^^^^^^^^^^^^^^^^^^^^^^^\n",
      "  File \"c:\\Users\\benja\\anaconda3\\envs\\general\\Lib\\inspect.py\", line 1264, in getsourcelines\n",
      "    lines, lnum = findsource(object)\n",
      "                  ^^^^^^^^^^^^^^^^^^\n",
      "  File \"c:\\Users\\benja\\anaconda3\\envs\\general\\Lib\\inspect.py\", line 1093, in findsource\n",
      "    raise OSError('could not get source code')\n",
      "OSError: could not get source code\n"
     ]
    }
   ],
   "source": [
    "with open(\"object_data/masterClientDictionary.pkl\", \"rb\") as file:\n",
    "       masterClientDictionary = pickle.load(file)\n",
    "\n",
    "with open(\"object_data/masterAccountDictionary.pkl\", \"rb\") as file:\n",
    "       masterAccountDictionary = pickle.load(file)\n",
    "\n",
    "with open(\"object_data/masterFraudDictionary.pkl\", \"rb\") as file:\n",
    "       masterFraudDictionary = pickle.load(file)\n",
    "       \n",
    "with open(\"object_data/masterUserDictionary.pkl\", \"rb\") as file:\n",
    "       masterUserDictionary = pickle.load(file)\n"
   ]
  },
  {
   "cell_type": "code",
   "execution_count": null,
   "metadata": {},
   "outputs": [],
   "source": []
  },
  {
   "cell_type": "code",
   "execution_count": null,
   "metadata": {},
   "outputs": [],
   "source": []
  },
  {
   "cell_type": "code",
   "execution_count": null,
   "metadata": {},
   "outputs": [],
   "source": [
    "x_data = []\n",
    "y_data = []"
   ]
  },
  {
   "cell_type": "code",
   "execution_count": null,
   "metadata": {},
   "outputs": [
    {
     "ename": "NameError",
     "evalue": "name 'masterAccountDictionary' is not defined",
     "output_type": "error",
     "traceback": [
      "\u001b[1;31m---------------------------------------------------------------------------\u001b[0m",
      "\u001b[1;31mNameError\u001b[0m                                 Traceback (most recent call last)",
      "Cell \u001b[1;32mIn[3], line 1\u001b[0m\n\u001b[1;32m----> 1\u001b[0m \u001b[38;5;28;01mfor\u001b[39;00m accountID \u001b[38;5;129;01min\u001b[39;00m \u001b[43mmasterAccountDictionary\u001b[49m:\n\u001b[0;32m      2\u001b[0m     accountObject \u001b[38;5;241m=\u001b[39m masterAccountDictionary[accountID]\n\u001b[0;32m      3\u001b[0m     y_data \u001b[38;5;241m=\u001b[39m \u001b[38;5;241m0\u001b[39m\n",
      "\u001b[1;31mNameError\u001b[0m: name 'masterAccountDictionary' is not defined"
     ]
    }
   ],
   "source": [
    "for accountID in masterAccountDictionary:\n",
    "    accountObject = masterAccountDictionary[accountID]\n",
    "    y_data = 0\n",
    "    for fraudID in accountObject.fraud_claim_cases:\n",
    "        y_data += masterFraudDictionary.claim_information['net_fraud_amt']\n",
    "    \n",
    "    x_data_point = []\n",
    "\n",
    "\n"
   ]
  },
  {
   "cell_type": "code",
   "execution_count": null,
   "metadata": {},
   "outputs": [
    {
     "data": {
      "text/plain": [
       "<__main__.Client at 0x1e8968ce240>"
      ]
     },
     "execution_count": 32,
     "metadata": {},
     "output_type": "execute_result"
    }
   ],
   "source": [
    "masterClientDictionary['YCTHAA278DC']"
   ]
  },
  {
   "cell_type": "code",
   "execution_count": null,
   "metadata": {},
   "outputs": [
    {
     "data": {
      "text/plain": [
       "{'YCTHAA278DC': <__main__.Client at 0x1e8968ce240>,\n",
       " 'CCSP489PLCC': <__main__.Client at 0x1e8968c7bf0>,\n",
       " 'HGBHARRFT984': <__main__.Client at 0x1e8968c4260>,\n",
       " 'OSELW263': <__main__.Client at 0x1e8968c4f50>,\n",
       " 'ONEMV447COB': <__main__.Client at 0x1e8968c6150>,\n",
       " 'ARPPYALC768': <__main__.Client at 0x1e8968c4fb0>,\n",
       " 'JTX290DC': <__main__.Client at 0x1e8968cd880>,\n",
       " 'AOHTME710DC': <__main__.Client at 0x1e8968ce690>,\n",
       " 'LKEB314DC': <__main__.Client at 0x1e8968c4bf0>,\n",
       " 'RTDECCI129DC': <__main__.Client at 0x1e8968c6960>,\n",
       " 'LDJAUCP673': <__main__.Client at 0x1e8968c4110>,\n",
       " 'HNS962': <__main__.Client at 0x1e8968c5730>,\n",
       " 'CDVFQR626': <__main__.Client at 0x1e8968c6720>,\n",
       " 'YAUAPPLLDA934': <__main__.Client at 0x1e8968c4f20>,\n",
       " 'SVRDCMSNAS887': <__main__.Client at 0x1e8968c6b70>,\n",
       " 'GOEOLG279': <__main__.Client at 0x1e8968c5ac0>,\n",
       " 'DGS176DC': <__main__.Client at 0x1e8968c60c0>,\n",
       " 'OCAOAZNMN549': <__main__.Client at 0x1e8968c58b0>,\n",
       " 'PJNOCC254': <__main__.Client at 0x1e8968c7950>,\n",
       " 'TJX513PLCC': <__main__.Client at 0x1e8968c50a0>,\n",
       " 'LYNSFBP425': <__main__.Client at 0x1e8968c5c40>,\n",
       " 'ZIONVRE794': <__main__.Client at 0x1e8968c44a0>,\n",
       " 'CMSSSNAO606': <__main__.Client at 0x1e8968c49b0>,\n",
       " 'BKLE911': <__main__.Client at 0x1e8968c5100>,\n",
       " 'ERWCJ164DC': <__main__.Client at 0x1e8968c4290>,\n",
       " 'LMEAAEG694DC': <__main__.Client at 0x1e8968c6750>,\n",
       " 'RGALNW318DC': <__main__.Client at 0x1e8968c7a40>,\n",
       " 'YEBA047COB': <__main__.Client at 0x1e8968c74a0>,\n",
       " 'SEMEFLILLT443DC': <__main__.Client at 0x1e8968c4e60>,\n",
       " 'DGS619PLCC': <__main__.Client at 0x1e8968c4ad0>,\n",
       " 'EORHVCN154DC': <__main__.Client at 0x1e8968c7830>,\n",
       " 'ATBCLRAR077': <__main__.Client at 0x1e8968c4d10>,\n",
       " 'RAEGLEMAEI254': <__main__.Client at 0x1e8968c61e0>,\n",
       " 'BLARARTC432DC': <__main__.Client at 0x1e8968c7ce0>,\n",
       " 'WLCRPEJ828': <__main__.Client at 0x1e8968c5a60>,\n",
       " 'GRLNAW782PLCC': <__main__.Client at 0x1e8968c6360>,\n",
       " 'RTU038DC': <__main__.Client at 0x1e8968c6e70>,\n",
       " 'WSLEO947DC': <__main__.Client at 0x1e8968c78f0>,\n",
       " 'DUEAABLY384': <__main__.Client at 0x1e8968c7b30>,\n",
       " 'LPPAAY817': <__main__.Client at 0x1e8968c66f0>,\n",
       " 'NCHSBPO661': <__main__.Client at 0x1e8968c69f0>,\n",
       " 'NSH241DC': <__main__.Client at 0x1e8968c6a20>,\n",
       " 'TEHAMO130': <__main__.Client at 0x1e8968c4710>,\n",
       " 'RNEDGIIVR336': <__main__.Client at 0x1e8968c7b90>}"
      ]
     },
     "execution_count": 31,
     "metadata": {},
     "output_type": "execute_result"
    }
   ],
   "source": [
    "masterClientDictionary"
   ]
  },
  {
   "cell_type": "code",
   "execution_count": null,
   "metadata": {},
   "outputs": [],
   "source": []
  },
  {
   "cell_type": "code",
   "execution_count": null,
   "metadata": {},
   "outputs": [],
   "source": []
  },
  {
   "cell_type": "code",
   "execution_count": null,
   "metadata": {},
   "outputs": [],
   "source": []
  },
  {
   "cell_type": "code",
   "execution_count": null,
   "metadata": {},
   "outputs": [],
   "source": []
  }
 ],
 "metadata": {
  "kernelspec": {
   "display_name": "general",
   "language": "python",
   "name": "python3"
  },
  "language_info": {
   "codemirror_mode": {
    "name": "ipython",
    "version": 3
   },
   "file_extension": ".py",
   "mimetype": "text/x-python",
   "name": "python",
   "nbconvert_exporter": "python",
   "pygments_lexer": "ipython3",
   "version": "3.12.1"
  }
 },
 "nbformat": 4,
 "nbformat_minor": 2
}
