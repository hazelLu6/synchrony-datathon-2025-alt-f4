{
 "cells": [
  {
   "cell_type": "code",
   "execution_count": 4,
   "metadata": {},
   "outputs": [
    {
     "name": "stdout",
     "output_type": "stream",
     "text": [
      "current_account_nbr       X7jfKh6xrPAB8Tx6\n",
      "transaction_type                      SALE\n",
      "transaction_code                       253\n",
      "transaction_date                2024-06-05\n",
      "transaction_amt                      15.78\n",
      "payment_type                           NaN\n",
      "transaction_return_cnt                   0\n",
      "transaction_sale_cnt                     1\n",
      "product_amt                            NaN\n",
      "product_qty                            NaN\n",
      "invoice_nbr                            NaN\n",
      "first_purchase_ind                       N\n",
      "adj_orgn_tran_dt                       NaN\n",
      "curr_markup_fee                        0.0\n",
      "fcr_amount                             NaN\n",
      "fcr_flag                               NaN\n",
      "fcr_rate_of_exchange                   NaN\n",
      "frgn_curr_code                         840\n",
      "frgn_tran_amt                        15.78\n",
      "us_equiv_amt                           0.0\n",
      "posting_date                    2024-06-06\n",
      "Name: 0, dtype: object\n"
     ]
    }
   ],
   "source": [
    "import pandas as pd\n",
    "\n",
    "df = pd.read_csv('C:/Users/benja/Downloads/data/tmp/datathon/data/transaction_fact_20250325.csv')\n",
    "\n",
    "print(df.iloc[0])"
   ]
  }
 ],
 "metadata": {
  "kernelspec": {
   "display_name": "general",
   "language": "python",
   "name": "python3"
  },
  "language_info": {
   "codemirror_mode": {
    "name": "ipython",
    "version": 3
   },
   "file_extension": ".py",
   "mimetype": "text/x-python",
   "name": "python",
   "nbconvert_exporter": "python",
   "pygments_lexer": "ipython3",
   "version": "3.12.1"
  }
 },
 "nbformat": 4,
 "nbformat_minor": 2
}
