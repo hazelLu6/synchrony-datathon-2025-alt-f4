{
 "cells": [
  {
   "cell_type": "code",
   "execution_count": 3,
   "metadata": {},
   "outputs": [
    {
     "name": "stdout",
     "output_type": "stream",
     "text": [
      "current_account_nbr                         nTgalbpd5Rsol7CA\n",
      "client_id                                        YCTHAA278DC\n",
      "open_date                      2020-07-17T00:00:00.000-04:00\n",
      "card_activation_date                                     NaN\n",
      "card_activation_flag                                       8\n",
      "ebill_ind                                                  E\n",
      "date_in_collection                                       NaN\n",
      "overlimit_type_flag                                        0\n",
      "payment_hist_1_12_mths                          ZZZZZZIAZZZZ\n",
      "payment_hist_13_24_mths                         ZZZZIIIQIIII\n",
      "employee_code                                            NaN\n",
      "external_status_reason_code                                0\n",
      "special_finance_charge_ind                               NaN\n",
      "pscc_ind                                                   0\n",
      "ext_status_reason_cd_desc                                NaN\n",
      "account_card_type                                  DUAL CARD\n",
      "Name: 0, dtype: object\n"
     ]
    }
   ],
   "source": [
    "import pandas as pd\n",
    "\n",
    "df = pd.read_csv('./data/account_dim_20250325.csv')\n",
    "\n",
    "print(df.iloc[0])"
   ]
  }
 ],
 "metadata": {
  "kernelspec": {
   "display_name": ".venv",
   "language": "python",
   "name": "python3"
  },
  "language_info": {
   "codemirror_mode": {
    "name": "ipython",
    "version": 3
   },
   "file_extension": ".py",
   "mimetype": "text/x-python",
   "name": "python",
   "nbconvert_exporter": "python",
   "pygments_lexer": "ipython3",
   "version": "3.12.8"
  }
 },
 "nbformat": 4,
 "nbformat_minor": 2
}
