{
 "cells": [
  {
   "cell_type": "code",
   "execution_count": 9,
   "metadata": {},
   "outputs": [
    {
     "data": {
      "text/plain": [
       "current_account_nbr     object\n",
       "case_id                  int64\n",
       "reported_date           object\n",
       "open_date               object\n",
       "close_date              object\n",
       "reopen_date             object\n",
       "gross_fraud_amt        float64\n",
       "net_fraud_amt          float64\n",
       "dtype: object"
      ]
     },
     "execution_count": 9,
     "metadata": {},
     "output_type": "execute_result"
    }
   ],
   "source": [
    "import pandas as pd\n",
    "\n",
    "df = pd.read_csv('cleaned_data/cleaned_fraud_claim.csv')\n",
    "\n",
    "df.dtypes"
   ]
  },
  {
   "cell_type": "code",
   "execution_count": 10,
   "metadata": {},
   "outputs": [
    {
     "data": {
      "text/plain": [
       "current_account_nbr                 object\n",
       "case_id                              int64\n",
       "reported_date          datetime64[ns, UTC]\n",
       "open_date              datetime64[ns, UTC]\n",
       "close_date             datetime64[ns, UTC]\n",
       "reopen_date            datetime64[ns, UTC]\n",
       "gross_fraud_amt                    float64\n",
       "net_fraud_amt                      float64\n",
       "dtype: object"
      ]
     },
     "execution_count": 10,
     "metadata": {},
     "output_type": "execute_result"
    }
   ],
   "source": [
    "cols_to_replace = ['reported_date', 'open_date', 'reopen_date', 'close_date']\n",
    "for col in cols_to_replace:\n",
    "    df[col] = pd.to_datetime(df[col], utc=True)\n",
    "\n",
    "df.dtypes"
   ]
  },
  {
   "cell_type": "code",
   "execution_count": 11,
   "metadata": {},
   "outputs": [],
   "source": [
    "import seaborn as sns  \n",
    "import matplotlib.pyplot as plt  \n"
   ]
  }
 ],
 "metadata": {
  "kernelspec": {
   "display_name": "base",
   "language": "python",
   "name": "python3"
  },
  "language_info": {
   "codemirror_mode": {
    "name": "ipython",
    "version": 3
   },
   "file_extension": ".py",
   "mimetype": "text/x-python",
   "name": "python",
   "nbconvert_exporter": "python",
   "pygments_lexer": "ipython3",
   "version": "3.10.9"
  }
 },
 "nbformat": 4,
 "nbformat_minor": 2
}
